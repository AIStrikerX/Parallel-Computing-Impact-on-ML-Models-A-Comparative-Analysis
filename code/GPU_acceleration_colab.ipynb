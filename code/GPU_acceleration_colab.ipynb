{
 "cells": [
  {
   "cell_type": "code",
   "execution_count": null,
   "metadata": {
    "colab": {
     "base_uri": "https://localhost:8080/"
    },
    "id": "n-jZYuBJS6jd",
    "outputId": "67bd2fd5-1b3b-4b96-a4a8-13d726615ac7"
   },
   "outputs": [
    {
     "name": "stdout",
     "output_type": "stream",
     "text": [
      "Requirement already satisfied: imbalanced-learn in /usr/local/lib/python3.11/dist-packages (0.13.0)\n",
      "Requirement already satisfied: numpy<3,>=1.24.3 in /usr/local/lib/python3.11/dist-packages (from imbalanced-learn) (2.0.2)\n",
      "Requirement already satisfied: scipy<2,>=1.10.1 in /usr/local/lib/python3.11/dist-packages (from imbalanced-learn) (1.15.2)\n",
      "Requirement already satisfied: scikit-learn<2,>=1.3.2 in /usr/local/lib/python3.11/dist-packages (from imbalanced-learn) (1.6.1)\n",
      "Requirement already satisfied: sklearn-compat<1,>=0.1 in /usr/local/lib/python3.11/dist-packages (from imbalanced-learn) (0.1.3)\n",
      "Requirement already satisfied: joblib<2,>=1.1.1 in /usr/local/lib/python3.11/dist-packages (from imbalanced-learn) (1.4.2)\n",
      "Requirement already satisfied: threadpoolctl<4,>=2.0.0 in /usr/local/lib/python3.11/dist-packages (from imbalanced-learn) (3.6.0)\n"
     ]
    }
   ],
   "source": [
    "!pip install imbalanced-learn"
   ]
  },
  {
   "cell_type": "markdown",
   "metadata": {},
   "source": [
    "#  Full Machine Learning Pipeline with Preprocessing, Neural Network Model, SMOTE, and GPU Training Support (PyTorch + Sklearn)\n"
   ]
  },
  {
   "cell_type": "markdown",
   "metadata": {
    "id": "FyhYOGS-Ue_6"
   },
   "source": [
    "\n",
    "\n",
    "---\n",
    "\n"
   ]
  },
  {
   "cell_type": "code",
   "execution_count": null,
   "metadata": {
    "colab": {
     "base_uri": "https://localhost:8080/",
     "height": 1000
    },
    "id": "-6E4O4r0Xw-e",
    "outputId": "f1712c51-5264-46fc-942d-99eff46f28d7"
   },
   "outputs": [
    {
     "name": "stdout",
     "output_type": "stream",
     "text": [
      "\n",
      "--- Running GPU version (Wider/Deeper Net, Batch 8192) ---\n",
      "\n",
      "Running on CUDA...\n",
      "GPU Name: Tesla T4\n",
      "Starting data preprocessing...\n",
      "Numerical columns: ['feature_1', 'feature_2', 'feature_4', 'feature_6', 'feature_7']\n",
      "Categorical columns: ['feature_3', 'feature_5']\n",
      "Numerical imputation complete.\n",
      "Categorical imputation complete.\n",
      "Categorical encoding complete.\n",
      "Applying SMOTE...\n",
      "Original dataset shape (41000, 8), (41000,)\n",
      "Resampled dataset shape (49364, 8), (49364,)\n",
      "Train shapes: (39491, 8), (39491,)\n",
      "Test shapes: (9873, 8), (9873,)\n",
      "Feature scaling complete.\n",
      "Using 0 DataLoader workers.\n",
      "DataLoader batch size: 8192\n",
      "Model Architecture:\n",
      "OptimizedNN(\n",
      "  (net): Sequential(\n",
      "    (0): Linear(in_features=8, out_features=1024, bias=True)\n",
      "    (1): BatchNorm1d(1024, eps=1e-05, momentum=0.1, affine=True, track_running_stats=True)\n",
      "    (2): LeakyReLU(negative_slope=0.1)\n",
      "    (3): Dropout(p=0.3, inplace=False)\n",
      "    (4): Linear(in_features=1024, out_features=512, bias=True)\n",
      "    (5): BatchNorm1d(512, eps=1e-05, momentum=0.1, affine=True, track_running_stats=True)\n",
      "    (6): LeakyReLU(negative_slope=0.1)\n",
      "    (7): Dropout(p=0.3, inplace=False)\n",
      "    (8): Linear(in_features=512, out_features=256, bias=True)\n",
      "    (9): BatchNorm1d(256, eps=1e-05, momentum=0.1, affine=True, track_running_stats=True)\n",
      "    (10): LeakyReLU(negative_slope=0.1)\n",
      "    (11): Dropout(p=0.2, inplace=False)\n",
      "    (12): Linear(in_features=256, out_features=128, bias=True)\n",
      "    (13): BatchNorm1d(128, eps=1e-05, momentum=0.1, affine=True, track_running_stats=True)\n",
      "    (14): LeakyReLU(negative_slope=0.1)\n",
      "    (15): Linear(in_features=128, out_features=64, bias=True)\n",
      "    (16): BatchNorm1d(64, eps=1e-05, momentum=0.1, affine=True, track_running_stats=True)\n",
      "    (17): LeakyReLU(negative_slope=0.1)\n",
      "    (18): Linear(in_features=64, out_features=32, bias=True)\n",
      "    (19): BatchNorm1d(32, eps=1e-05, momentum=0.1, affine=True, track_running_stats=True)\n",
      "    (20): LeakyReLU(negative_slope=0.1)\n",
      "    (21): Linear(in_features=32, out_features=1, bias=True)\n",
      "  )\n",
      ")\n",
      "Warming up GPU...\n",
      "GPU warm-up complete.\n",
      "Starting training...\n"
     ]
    },
    {
     "name": "stderr",
     "output_type": "stream",
     "text": [
      "/usr/local/lib/python3.11/dist-packages/torch/optim/lr_scheduler.py:62: UserWarning: The verbose parameter is deprecated. Please use get_last_lr() to access the learning rate.\n",
      "  warnings.warn(\n",
      "<ipython-input-9-1299851abec4>:299: FutureWarning: `torch.cuda.amp.GradScaler(args...)` is deprecated. Please use `torch.amp.GradScaler('cuda', args...)` instead.\n",
      "  scaler = GradScaler() if device.type == 'cuda' else None\n",
      "<ipython-input-9-1299851abec4>:310: FutureWarning: `torch.cuda.amp.autocast(args...)` is deprecated. Please use `torch.amp.autocast('cuda', args...)` instead.\n",
      "  with autocast():\n",
      "<ipython-input-9-1299851abec4>:195: FutureWarning: `torch.cuda.amp.autocast(args...)` is deprecated. Please use `torch.amp.autocast('cuda', args...)` instead.\n",
      "  with autocast():\n",
      "<ipython-input-9-1299851abec4>:222: FutureWarning: `torch.cuda.amp.autocast(args...)` is deprecated. Please use `torch.amp.autocast('cuda', args...)` instead.\n",
      "  with autocast():\n",
      "<ipython-input-9-1299851abec4>:195: FutureWarning: `torch.cuda.amp.autocast(args...)` is deprecated. Please use `torch.amp.autocast('cuda', args...)` instead.\n",
      "  with autocast():\n"
     ]
    },
    {
     "name": "stdout",
     "output_type": "stream",
     "text": [
      "Epoch 1/100 | Train Loss: 0.7198 | Val Loss: 0.7952 | Acc: 0.5009 | F1: 0.0160\n"
     ]
    },
    {
     "name": "stderr",
     "output_type": "stream",
     "text": [
      "<ipython-input-9-1299851abec4>:222: FutureWarning: `torch.cuda.amp.autocast(args...)` is deprecated. Please use `torch.amp.autocast('cuda', args...)` instead.\n",
      "  with autocast():\n",
      "<ipython-input-9-1299851abec4>:195: FutureWarning: `torch.cuda.amp.autocast(args...)` is deprecated. Please use `torch.amp.autocast('cuda', args...)` instead.\n",
      "  with autocast():\n"
     ]
    },
    {
     "name": "stdout",
     "output_type": "stream",
     "text": [
      "Epoch 2/100 | Train Loss: 0.6914 | Val Loss: 0.7679 | Acc: 0.5043 | F1: 0.0977\n"
     ]
    },
    {
     "name": "stderr",
     "output_type": "stream",
     "text": [
      "<ipython-input-9-1299851abec4>:222: FutureWarning: `torch.cuda.amp.autocast(args...)` is deprecated. Please use `torch.amp.autocast('cuda', args...)` instead.\n",
      "  with autocast():\n",
      "<ipython-input-9-1299851abec4>:195: FutureWarning: `torch.cuda.amp.autocast(args...)` is deprecated. Please use `torch.amp.autocast('cuda', args...)` instead.\n",
      "  with autocast():\n"
     ]
    },
    {
     "name": "stdout",
     "output_type": "stream",
     "text": [
      "Epoch 3/100 | Train Loss: 0.6811 | Val Loss: 0.7342 | Acc: 0.5175 | F1: 0.1230\n"
     ]
    },
    {
     "name": "stderr",
     "output_type": "stream",
     "text": [
      "<ipython-input-9-1299851abec4>:222: FutureWarning: `torch.cuda.amp.autocast(args...)` is deprecated. Please use `torch.amp.autocast('cuda', args...)` instead.\n",
      "  with autocast():\n"
     ]
    },
    {
     "name": "stdout",
     "output_type": "stream",
     "text": [
      "Epoch 4/100 | Train Loss: 0.6704 | Val Loss: 0.7146 | Acc: 0.5296 | F1: 0.1444\n"
     ]
    },
    {
     "name": "stderr",
     "output_type": "stream",
     "text": [
      "<ipython-input-9-1299851abec4>:195: FutureWarning: `torch.cuda.amp.autocast(args...)` is deprecated. Please use `torch.amp.autocast('cuda', args...)` instead.\n",
      "  with autocast():\n",
      "<ipython-input-9-1299851abec4>:222: FutureWarning: `torch.cuda.amp.autocast(args...)` is deprecated. Please use `torch.amp.autocast('cuda', args...)` instead.\n",
      "  with autocast():\n",
      "<ipython-input-9-1299851abec4>:195: FutureWarning: `torch.cuda.amp.autocast(args...)` is deprecated. Please use `torch.amp.autocast('cuda', args...)` instead.\n",
      "  with autocast():\n"
     ]
    },
    {
     "name": "stdout",
     "output_type": "stream",
     "text": [
      "Epoch 5/100 | Train Loss: 0.6624 | Val Loss: 0.7070 | Acc: 0.5407 | F1: 0.1798\n"
     ]
    },
    {
     "name": "stderr",
     "output_type": "stream",
     "text": [
      "<ipython-input-9-1299851abec4>:222: FutureWarning: `torch.cuda.amp.autocast(args...)` is deprecated. Please use `torch.amp.autocast('cuda', args...)` instead.\n",
      "  with autocast():\n"
     ]
    },
    {
     "name": "stdout",
     "output_type": "stream",
     "text": [
      "Epoch 6/100 | Train Loss: 0.6557 | Val Loss: 0.6901 | Acc: 0.5515 | F1: 0.2042\n"
     ]
    },
    {
     "name": "stderr",
     "output_type": "stream",
     "text": [
      "<ipython-input-9-1299851abec4>:195: FutureWarning: `torch.cuda.amp.autocast(args...)` is deprecated. Please use `torch.amp.autocast('cuda', args...)` instead.\n",
      "  with autocast():\n",
      "<ipython-input-9-1299851abec4>:222: FutureWarning: `torch.cuda.amp.autocast(args...)` is deprecated. Please use `torch.amp.autocast('cuda', args...)` instead.\n",
      "  with autocast():\n",
      "<ipython-input-9-1299851abec4>:195: FutureWarning: `torch.cuda.amp.autocast(args...)` is deprecated. Please use `torch.amp.autocast('cuda', args...)` instead.\n",
      "  with autocast():\n"
     ]
    },
    {
     "name": "stdout",
     "output_type": "stream",
     "text": [
      "Epoch 7/100 | Train Loss: 0.6495 | Val Loss: 0.6774 | Acc: 0.5595 | F1: 0.2353\n"
     ]
    },
    {
     "name": "stderr",
     "output_type": "stream",
     "text": [
      "<ipython-input-9-1299851abec4>:222: FutureWarning: `torch.cuda.amp.autocast(args...)` is deprecated. Please use `torch.amp.autocast('cuda', args...)` instead.\n",
      "  with autocast():\n",
      "<ipython-input-9-1299851abec4>:195: FutureWarning: `torch.cuda.amp.autocast(args...)` is deprecated. Please use `torch.amp.autocast('cuda', args...)` instead.\n",
      "  with autocast():\n"
     ]
    },
    {
     "name": "stdout",
     "output_type": "stream",
     "text": [
      "Epoch 8/100 | Train Loss: 0.6465 | Val Loss: 0.6630 | Acc: 0.5668 | F1: 0.2534\n"
     ]
    },
    {
     "name": "stderr",
     "output_type": "stream",
     "text": [
      "<ipython-input-9-1299851abec4>:222: FutureWarning: `torch.cuda.amp.autocast(args...)` is deprecated. Please use `torch.amp.autocast('cuda', args...)` instead.\n",
      "  with autocast():\n",
      "<ipython-input-9-1299851abec4>:195: FutureWarning: `torch.cuda.amp.autocast(args...)` is deprecated. Please use `torch.amp.autocast('cuda', args...)` instead.\n",
      "  with autocast():\n"
     ]
    },
    {
     "name": "stdout",
     "output_type": "stream",
     "text": [
      "Epoch 9/100 | Train Loss: 0.6442 | Val Loss: 0.6554 | Acc: 0.5701 | F1: 0.2683\n"
     ]
    },
    {
     "name": "stderr",
     "output_type": "stream",
     "text": [
      "<ipython-input-9-1299851abec4>:222: FutureWarning: `torch.cuda.amp.autocast(args...)` is deprecated. Please use `torch.amp.autocast('cuda', args...)` instead.\n",
      "  with autocast():\n",
      "<ipython-input-9-1299851abec4>:195: FutureWarning: `torch.cuda.amp.autocast(args...)` is deprecated. Please use `torch.amp.autocast('cuda', args...)` instead.\n",
      "  with autocast():\n"
     ]
    },
    {
     "name": "stdout",
     "output_type": "stream",
     "text": [
      "Epoch 10/100 | Train Loss: 0.6417 | Val Loss: 0.6516 | Acc: 0.5748 | F1: 0.2814\n"
     ]
    },
    {
     "name": "stderr",
     "output_type": "stream",
     "text": [
      "<ipython-input-9-1299851abec4>:222: FutureWarning: `torch.cuda.amp.autocast(args...)` is deprecated. Please use `torch.amp.autocast('cuda', args...)` instead.\n",
      "  with autocast():\n"
     ]
    },
    {
     "name": "stdout",
     "output_type": "stream",
     "text": [
      "Epoch 11/100 | Train Loss: 0.6389 | Val Loss: 0.6484 | Acc: 0.5765 | F1: 0.2876\n"
     ]
    },
    {
     "name": "stderr",
     "output_type": "stream",
     "text": [
      "<ipython-input-9-1299851abec4>:195: FutureWarning: `torch.cuda.amp.autocast(args...)` is deprecated. Please use `torch.amp.autocast('cuda', args...)` instead.\n",
      "  with autocast():\n",
      "<ipython-input-9-1299851abec4>:222: FutureWarning: `torch.cuda.amp.autocast(args...)` is deprecated. Please use `torch.amp.autocast('cuda', args...)` instead.\n",
      "  with autocast():\n",
      "<ipython-input-9-1299851abec4>:195: FutureWarning: `torch.cuda.amp.autocast(args...)` is deprecated. Please use `torch.amp.autocast('cuda', args...)` instead.\n",
      "  with autocast():\n"
     ]
    },
    {
     "name": "stdout",
     "output_type": "stream",
     "text": [
      "Epoch 12/100 | Train Loss: 0.6360 | Val Loss: 0.6435 | Acc: 0.5833 | F1: 0.3032\n"
     ]
    },
    {
     "name": "stderr",
     "output_type": "stream",
     "text": [
      "<ipython-input-9-1299851abec4>:222: FutureWarning: `torch.cuda.amp.autocast(args...)` is deprecated. Please use `torch.amp.autocast('cuda', args...)` instead.\n",
      "  with autocast():\n",
      "<ipython-input-9-1299851abec4>:195: FutureWarning: `torch.cuda.amp.autocast(args...)` is deprecated. Please use `torch.amp.autocast('cuda', args...)` instead.\n",
      "  with autocast():\n"
     ]
    },
    {
     "name": "stdout",
     "output_type": "stream",
     "text": [
      "Epoch 13/100 | Train Loss: 0.6368 | Val Loss: 0.6410 | Acc: 0.5876 | F1: 0.3188\n"
     ]
    },
    {
     "name": "stderr",
     "output_type": "stream",
     "text": [
      "<ipython-input-9-1299851abec4>:222: FutureWarning: `torch.cuda.amp.autocast(args...)` is deprecated. Please use `torch.amp.autocast('cuda', args...)` instead.\n",
      "  with autocast():\n",
      "<ipython-input-9-1299851abec4>:195: FutureWarning: `torch.cuda.amp.autocast(args...)` is deprecated. Please use `torch.amp.autocast('cuda', args...)` instead.\n",
      "  with autocast():\n"
     ]
    },
    {
     "name": "stdout",
     "output_type": "stream",
     "text": [
      "Epoch 14/100 | Train Loss: 0.6348 | Val Loss: 0.6368 | Acc: 0.5924 | F1: 0.3320\n"
     ]
    },
    {
     "name": "stderr",
     "output_type": "stream",
     "text": [
      "<ipython-input-9-1299851abec4>:222: FutureWarning: `torch.cuda.amp.autocast(args...)` is deprecated. Please use `torch.amp.autocast('cuda', args...)` instead.\n",
      "  with autocast():\n",
      "<ipython-input-9-1299851abec4>:195: FutureWarning: `torch.cuda.amp.autocast(args...)` is deprecated. Please use `torch.amp.autocast('cuda', args...)` instead.\n",
      "  with autocast():\n"
     ]
    },
    {
     "name": "stdout",
     "output_type": "stream",
     "text": [
      "Epoch 15/100 | Train Loss: 0.6329 | Val Loss: 0.6329 | Acc: 0.5944 | F1: 0.3342\n"
     ]
    },
    {
     "name": "stderr",
     "output_type": "stream",
     "text": [
      "<ipython-input-9-1299851abec4>:222: FutureWarning: `torch.cuda.amp.autocast(args...)` is deprecated. Please use `torch.amp.autocast('cuda', args...)` instead.\n",
      "  with autocast():\n"
     ]
    },
    {
     "name": "stdout",
     "output_type": "stream",
     "text": [
      "Epoch 16/100 | Train Loss: 0.6332 | Val Loss: 0.6297 | Acc: 0.5992 | F1: 0.3454\n"
     ]
    },
    {
     "name": "stderr",
     "output_type": "stream",
     "text": [
      "<ipython-input-9-1299851abec4>:195: FutureWarning: `torch.cuda.amp.autocast(args...)` is deprecated. Please use `torch.amp.autocast('cuda', args...)` instead.\n",
      "  with autocast():\n",
      "<ipython-input-9-1299851abec4>:222: FutureWarning: `torch.cuda.amp.autocast(args...)` is deprecated. Please use `torch.amp.autocast('cuda', args...)` instead.\n",
      "  with autocast():\n",
      "<ipython-input-9-1299851abec4>:195: FutureWarning: `torch.cuda.amp.autocast(args...)` is deprecated. Please use `torch.amp.autocast('cuda', args...)` instead.\n",
      "  with autocast():\n"
     ]
    },
    {
     "name": "stdout",
     "output_type": "stream",
     "text": [
      "Epoch 17/100 | Train Loss: 0.6336 | Val Loss: 0.6274 | Acc: 0.5998 | F1: 0.3475\n"
     ]
    },
    {
     "name": "stderr",
     "output_type": "stream",
     "text": [
      "<ipython-input-9-1299851abec4>:222: FutureWarning: `torch.cuda.amp.autocast(args...)` is deprecated. Please use `torch.amp.autocast('cuda', args...)` instead.\n",
      "  with autocast():\n",
      "<ipython-input-9-1299851abec4>:195: FutureWarning: `torch.cuda.amp.autocast(args...)` is deprecated. Please use `torch.amp.autocast('cuda', args...)` instead.\n",
      "  with autocast():\n"
     ]
    },
    {
     "name": "stdout",
     "output_type": "stream",
     "text": [
      "Epoch 18/100 | Train Loss: 0.6311 | Val Loss: 0.6268 | Acc: 0.5988 | F1: 0.3452\n"
     ]
    },
    {
     "name": "stderr",
     "output_type": "stream",
     "text": [
      "<ipython-input-9-1299851abec4>:222: FutureWarning: `torch.cuda.amp.autocast(args...)` is deprecated. Please use `torch.amp.autocast('cuda', args...)` instead.\n",
      "  with autocast():\n",
      "<ipython-input-9-1299851abec4>:195: FutureWarning: `torch.cuda.amp.autocast(args...)` is deprecated. Please use `torch.amp.autocast('cuda', args...)` instead.\n",
      "  with autocast():\n"
     ]
    },
    {
     "name": "stdout",
     "output_type": "stream",
     "text": [
      "Epoch 19/100 | Train Loss: 0.6302 | Val Loss: 0.6252 | Acc: 0.6010 | F1: 0.3490\n"
     ]
    },
    {
     "name": "stderr",
     "output_type": "stream",
     "text": [
      "<ipython-input-9-1299851abec4>:222: FutureWarning: `torch.cuda.amp.autocast(args...)` is deprecated. Please use `torch.amp.autocast('cuda', args...)` instead.\n",
      "  with autocast():\n",
      "<ipython-input-9-1299851abec4>:195: FutureWarning: `torch.cuda.amp.autocast(args...)` is deprecated. Please use `torch.amp.autocast('cuda', args...)` instead.\n",
      "  with autocast():\n"
     ]
    },
    {
     "name": "stdout",
     "output_type": "stream",
     "text": [
      "Epoch 20/100 | Train Loss: 0.6310 | Val Loss: 0.6243 | Acc: 0.6017 | F1: 0.3539\n"
     ]
    },
    {
     "name": "stderr",
     "output_type": "stream",
     "text": [
      "<ipython-input-9-1299851abec4>:222: FutureWarning: `torch.cuda.amp.autocast(args...)` is deprecated. Please use `torch.amp.autocast('cuda', args...)` instead.\n",
      "  with autocast():\n"
     ]
    },
    {
     "name": "stdout",
     "output_type": "stream",
     "text": [
      "Epoch 21/100 | Train Loss: 0.6307 | Val Loss: 0.6234 | Acc: 0.6022 | F1: 0.3551\n"
     ]
    },
    {
     "name": "stderr",
     "output_type": "stream",
     "text": [
      "<ipython-input-9-1299851abec4>:195: FutureWarning: `torch.cuda.amp.autocast(args...)` is deprecated. Please use `torch.amp.autocast('cuda', args...)` instead.\n",
      "  with autocast():\n",
      "<ipython-input-9-1299851abec4>:222: FutureWarning: `torch.cuda.amp.autocast(args...)` is deprecated. Please use `torch.amp.autocast('cuda', args...)` instead.\n",
      "  with autocast():\n",
      "<ipython-input-9-1299851abec4>:195: FutureWarning: `torch.cuda.amp.autocast(args...)` is deprecated. Please use `torch.amp.autocast('cuda', args...)` instead.\n",
      "  with autocast():\n"
     ]
    },
    {
     "name": "stdout",
     "output_type": "stream",
     "text": [
      "Epoch 22/100 | Train Loss: 0.6297 | Val Loss: 0.6236 | Acc: 0.6023 | F1: 0.3566\n"
     ]
    },
    {
     "name": "stderr",
     "output_type": "stream",
     "text": [
      "<ipython-input-9-1299851abec4>:222: FutureWarning: `torch.cuda.amp.autocast(args...)` is deprecated. Please use `torch.amp.autocast('cuda', args...)` instead.\n",
      "  with autocast():\n",
      "<ipython-input-9-1299851abec4>:195: FutureWarning: `torch.cuda.amp.autocast(args...)` is deprecated. Please use `torch.amp.autocast('cuda', args...)` instead.\n",
      "  with autocast():\n"
     ]
    },
    {
     "name": "stdout",
     "output_type": "stream",
     "text": [
      "Epoch 23/100 | Train Loss: 0.6292 | Val Loss: 0.6239 | Acc: 0.6025 | F1: 0.3554\n"
     ]
    },
    {
     "name": "stderr",
     "output_type": "stream",
     "text": [
      "<ipython-input-9-1299851abec4>:222: FutureWarning: `torch.cuda.amp.autocast(args...)` is deprecated. Please use `torch.amp.autocast('cuda', args...)` instead.\n",
      "  with autocast():\n",
      "<ipython-input-9-1299851abec4>:195: FutureWarning: `torch.cuda.amp.autocast(args...)` is deprecated. Please use `torch.amp.autocast('cuda', args...)` instead.\n",
      "  with autocast():\n"
     ]
    },
    {
     "name": "stdout",
     "output_type": "stream",
     "text": [
      "Epoch 24/100 | Train Loss: 0.6286 | Val Loss: 0.6240 | Acc: 0.6019 | F1: 0.3545\n"
     ]
    },
    {
     "name": "stderr",
     "output_type": "stream",
     "text": [
      "<ipython-input-9-1299851abec4>:222: FutureWarning: `torch.cuda.amp.autocast(args...)` is deprecated. Please use `torch.amp.autocast('cuda', args...)` instead.\n",
      "  with autocast():\n",
      "<ipython-input-9-1299851abec4>:195: FutureWarning: `torch.cuda.amp.autocast(args...)` is deprecated. Please use `torch.amp.autocast('cuda', args...)` instead.\n",
      "  with autocast():\n"
     ]
    },
    {
     "name": "stdout",
     "output_type": "stream",
     "text": [
      "Epoch 25/100 | Train Loss: 0.6275 | Val Loss: 0.6229 | Acc: 0.6038 | F1: 0.3574\n"
     ]
    },
    {
     "name": "stderr",
     "output_type": "stream",
     "text": [
      "<ipython-input-9-1299851abec4>:222: FutureWarning: `torch.cuda.amp.autocast(args...)` is deprecated. Please use `torch.amp.autocast('cuda', args...)` instead.\n",
      "  with autocast():\n"
     ]
    },
    {
     "name": "stdout",
     "output_type": "stream",
     "text": [
      "Epoch 26/100 | Train Loss: 0.6288 | Val Loss: 0.6226 | Acc: 0.6031 | F1: 0.3568\n"
     ]
    },
    {
     "name": "stderr",
     "output_type": "stream",
     "text": [
      "<ipython-input-9-1299851abec4>:195: FutureWarning: `torch.cuda.amp.autocast(args...)` is deprecated. Please use `torch.amp.autocast('cuda', args...)` instead.\n",
      "  with autocast():\n",
      "<ipython-input-9-1299851abec4>:222: FutureWarning: `torch.cuda.amp.autocast(args...)` is deprecated. Please use `torch.amp.autocast('cuda', args...)` instead.\n",
      "  with autocast():\n",
      "<ipython-input-9-1299851abec4>:195: FutureWarning: `torch.cuda.amp.autocast(args...)` is deprecated. Please use `torch.amp.autocast('cuda', args...)` instead.\n",
      "  with autocast():\n"
     ]
    },
    {
     "name": "stdout",
     "output_type": "stream",
     "text": [
      "Epoch 27/100 | Train Loss: 0.6282 | Val Loss: 0.6223 | Acc: 0.6028 | F1: 0.3549\n"
     ]
    },
    {
     "name": "stderr",
     "output_type": "stream",
     "text": [
      "<ipython-input-9-1299851abec4>:222: FutureWarning: `torch.cuda.amp.autocast(args...)` is deprecated. Please use `torch.amp.autocast('cuda', args...)` instead.\n",
      "  with autocast():\n",
      "<ipython-input-9-1299851abec4>:195: FutureWarning: `torch.cuda.amp.autocast(args...)` is deprecated. Please use `torch.amp.autocast('cuda', args...)` instead.\n",
      "  with autocast():\n"
     ]
    },
    {
     "name": "stdout",
     "output_type": "stream",
     "text": [
      "Epoch 28/100 | Train Loss: 0.6258 | Val Loss: 0.6218 | Acc: 0.6030 | F1: 0.3546\n"
     ]
    },
    {
     "name": "stderr",
     "output_type": "stream",
     "text": [
      "<ipython-input-9-1299851abec4>:222: FutureWarning: `torch.cuda.amp.autocast(args...)` is deprecated. Please use `torch.amp.autocast('cuda', args...)` instead.\n",
      "  with autocast():\n",
      "<ipython-input-9-1299851abec4>:195: FutureWarning: `torch.cuda.amp.autocast(args...)` is deprecated. Please use `torch.amp.autocast('cuda', args...)` instead.\n",
      "  with autocast():\n"
     ]
    },
    {
     "name": "stdout",
     "output_type": "stream",
     "text": [
      "Epoch 29/100 | Train Loss: 0.6262 | Val Loss: 0.6212 | Acc: 0.6035 | F1: 0.3572\n"
     ]
    },
    {
     "name": "stderr",
     "output_type": "stream",
     "text": [
      "<ipython-input-9-1299851abec4>:222: FutureWarning: `torch.cuda.amp.autocast(args...)` is deprecated. Please use `torch.amp.autocast('cuda', args...)` instead.\n",
      "  with autocast():\n",
      "<ipython-input-9-1299851abec4>:195: FutureWarning: `torch.cuda.amp.autocast(args...)` is deprecated. Please use `torch.amp.autocast('cuda', args...)` instead.\n",
      "  with autocast():\n"
     ]
    },
    {
     "name": "stdout",
     "output_type": "stream",
     "text": [
      "Epoch 30/100 | Train Loss: 0.6260 | Val Loss: 0.6202 | Acc: 0.6042 | F1: 0.3598\n"
     ]
    },
    {
     "name": "stderr",
     "output_type": "stream",
     "text": [
      "<ipython-input-9-1299851abec4>:222: FutureWarning: `torch.cuda.amp.autocast(args...)` is deprecated. Please use `torch.amp.autocast('cuda', args...)` instead.\n",
      "  with autocast():\n"
     ]
    },
    {
     "name": "stdout",
     "output_type": "stream",
     "text": [
      "Epoch 31/100 | Train Loss: 0.6255 | Val Loss: 0.6190 | Acc: 0.6060 | F1: 0.3652\n"
     ]
    },
    {
     "name": "stderr",
     "output_type": "stream",
     "text": [
      "<ipython-input-9-1299851abec4>:195: FutureWarning: `torch.cuda.amp.autocast(args...)` is deprecated. Please use `torch.amp.autocast('cuda', args...)` instead.\n",
      "  with autocast():\n",
      "<ipython-input-9-1299851abec4>:222: FutureWarning: `torch.cuda.amp.autocast(args...)` is deprecated. Please use `torch.amp.autocast('cuda', args...)` instead.\n",
      "  with autocast():\n",
      "<ipython-input-9-1299851abec4>:195: FutureWarning: `torch.cuda.amp.autocast(args...)` is deprecated. Please use `torch.amp.autocast('cuda', args...)` instead.\n",
      "  with autocast():\n"
     ]
    },
    {
     "name": "stdout",
     "output_type": "stream",
     "text": [
      "Epoch 32/100 | Train Loss: 0.6250 | Val Loss: 0.6179 | Acc: 0.6063 | F1: 0.3668\n"
     ]
    },
    {
     "name": "stderr",
     "output_type": "stream",
     "text": [
      "<ipython-input-9-1299851abec4>:222: FutureWarning: `torch.cuda.amp.autocast(args...)` is deprecated. Please use `torch.amp.autocast('cuda', args...)` instead.\n",
      "  with autocast():\n",
      "<ipython-input-9-1299851abec4>:195: FutureWarning: `torch.cuda.amp.autocast(args...)` is deprecated. Please use `torch.amp.autocast('cuda', args...)` instead.\n",
      "  with autocast():\n"
     ]
    },
    {
     "name": "stdout",
     "output_type": "stream",
     "text": [
      "Epoch 33/100 | Train Loss: 0.6252 | Val Loss: 0.6180 | Acc: 0.6073 | F1: 0.3695\n"
     ]
    },
    {
     "name": "stderr",
     "output_type": "stream",
     "text": [
      "<ipython-input-9-1299851abec4>:222: FutureWarning: `torch.cuda.amp.autocast(args...)` is deprecated. Please use `torch.amp.autocast('cuda', args...)` instead.\n",
      "  with autocast():\n",
      "<ipython-input-9-1299851abec4>:195: FutureWarning: `torch.cuda.amp.autocast(args...)` is deprecated. Please use `torch.amp.autocast('cuda', args...)` instead.\n",
      "  with autocast():\n"
     ]
    },
    {
     "name": "stdout",
     "output_type": "stream",
     "text": [
      "Epoch 34/100 | Train Loss: 0.6254 | Val Loss: 0.6174 | Acc: 0.6072 | F1: 0.3692\n"
     ]
    },
    {
     "name": "stderr",
     "output_type": "stream",
     "text": [
      "<ipython-input-9-1299851abec4>:222: FutureWarning: `torch.cuda.amp.autocast(args...)` is deprecated. Please use `torch.amp.autocast('cuda', args...)` instead.\n",
      "  with autocast():\n",
      "<ipython-input-9-1299851abec4>:195: FutureWarning: `torch.cuda.amp.autocast(args...)` is deprecated. Please use `torch.amp.autocast('cuda', args...)` instead.\n",
      "  with autocast():\n"
     ]
    },
    {
     "name": "stdout",
     "output_type": "stream",
     "text": [
      "Epoch 35/100 | Train Loss: 0.6238 | Val Loss: 0.6176 | Acc: 0.6069 | F1: 0.3662\n"
     ]
    },
    {
     "name": "stderr",
     "output_type": "stream",
     "text": [
      "<ipython-input-9-1299851abec4>:222: FutureWarning: `torch.cuda.amp.autocast(args...)` is deprecated. Please use `torch.amp.autocast('cuda', args...)` instead.\n",
      "  with autocast():\n"
     ]
    },
    {
     "name": "stdout",
     "output_type": "stream",
     "text": [
      "Epoch 36/100 | Train Loss: 0.6246 | Val Loss: 0.6189 | Acc: 0.6056 | F1: 0.3650\n"
     ]
    },
    {
     "name": "stderr",
     "output_type": "stream",
     "text": [
      "<ipython-input-9-1299851abec4>:195: FutureWarning: `torch.cuda.amp.autocast(args...)` is deprecated. Please use `torch.amp.autocast('cuda', args...)` instead.\n",
      "  with autocast():\n",
      "<ipython-input-9-1299851abec4>:222: FutureWarning: `torch.cuda.amp.autocast(args...)` is deprecated. Please use `torch.amp.autocast('cuda', args...)` instead.\n",
      "  with autocast():\n",
      "<ipython-input-9-1299851abec4>:195: FutureWarning: `torch.cuda.amp.autocast(args...)` is deprecated. Please use `torch.amp.autocast('cuda', args...)` instead.\n",
      "  with autocast():\n"
     ]
    },
    {
     "name": "stdout",
     "output_type": "stream",
     "text": [
      "Epoch 37/100 | Train Loss: 0.6234 | Val Loss: 0.6183 | Acc: 0.6055 | F1: 0.3635\n"
     ]
    },
    {
     "name": "stderr",
     "output_type": "stream",
     "text": [
      "<ipython-input-9-1299851abec4>:222: FutureWarning: `torch.cuda.amp.autocast(args...)` is deprecated. Please use `torch.amp.autocast('cuda', args...)` instead.\n",
      "  with autocast():\n",
      "<ipython-input-9-1299851abec4>:195: FutureWarning: `torch.cuda.amp.autocast(args...)` is deprecated. Please use `torch.amp.autocast('cuda', args...)` instead.\n",
      "  with autocast():\n"
     ]
    },
    {
     "name": "stdout",
     "output_type": "stream",
     "text": [
      "Epoch 38/100 | Train Loss: 0.6228 | Val Loss: 0.6183 | Acc: 0.6052 | F1: 0.3620\n"
     ]
    },
    {
     "name": "stderr",
     "output_type": "stream",
     "text": [
      "<ipython-input-9-1299851abec4>:222: FutureWarning: `torch.cuda.amp.autocast(args...)` is deprecated. Please use `torch.amp.autocast('cuda', args...)` instead.\n",
      "  with autocast():\n",
      "<ipython-input-9-1299851abec4>:195: FutureWarning: `torch.cuda.amp.autocast(args...)` is deprecated. Please use `torch.amp.autocast('cuda', args...)` instead.\n",
      "  with autocast():\n"
     ]
    },
    {
     "name": "stdout",
     "output_type": "stream",
     "text": [
      "Epoch 39/100 | Train Loss: 0.6232 | Val Loss: 0.6172 | Acc: 0.6061 | F1: 0.3626\n"
     ]
    },
    {
     "name": "stderr",
     "output_type": "stream",
     "text": [
      "<ipython-input-9-1299851abec4>:222: FutureWarning: `torch.cuda.amp.autocast(args...)` is deprecated. Please use `torch.amp.autocast('cuda', args...)` instead.\n",
      "  with autocast():\n",
      "<ipython-input-9-1299851abec4>:195: FutureWarning: `torch.cuda.amp.autocast(args...)` is deprecated. Please use `torch.amp.autocast('cuda', args...)` instead.\n",
      "  with autocast():\n"
     ]
    },
    {
     "name": "stdout",
     "output_type": "stream",
     "text": [
      "Epoch 40/100 | Train Loss: 0.6239 | Val Loss: 0.6191 | Acc: 0.6063 | F1: 0.3693\n"
     ]
    },
    {
     "name": "stderr",
     "output_type": "stream",
     "text": [
      "<ipython-input-9-1299851abec4>:222: FutureWarning: `torch.cuda.amp.autocast(args...)` is deprecated. Please use `torch.amp.autocast('cuda', args...)` instead.\n",
      "  with autocast():\n"
     ]
    },
    {
     "name": "stdout",
     "output_type": "stream",
     "text": [
      "Epoch 41/100 | Train Loss: 0.6234 | Val Loss: 0.6170 | Acc: 0.6083 | F1: 0.3687\n"
     ]
    },
    {
     "name": "stderr",
     "output_type": "stream",
     "text": [
      "<ipython-input-9-1299851abec4>:195: FutureWarning: `torch.cuda.amp.autocast(args...)` is deprecated. Please use `torch.amp.autocast('cuda', args...)` instead.\n",
      "  with autocast():\n",
      "<ipython-input-9-1299851abec4>:222: FutureWarning: `torch.cuda.amp.autocast(args...)` is deprecated. Please use `torch.amp.autocast('cuda', args...)` instead.\n",
      "  with autocast():\n",
      "<ipython-input-9-1299851abec4>:195: FutureWarning: `torch.cuda.amp.autocast(args...)` is deprecated. Please use `torch.amp.autocast('cuda', args...)` instead.\n",
      "  with autocast():\n"
     ]
    },
    {
     "name": "stdout",
     "output_type": "stream",
     "text": [
      "Epoch 42/100 | Train Loss: 0.6223 | Val Loss: 0.6163 | Acc: 0.6075 | F1: 0.3678\n"
     ]
    },
    {
     "name": "stderr",
     "output_type": "stream",
     "text": [
      "<ipython-input-9-1299851abec4>:222: FutureWarning: `torch.cuda.amp.autocast(args...)` is deprecated. Please use `torch.amp.autocast('cuda', args...)` instead.\n",
      "  with autocast():\n",
      "<ipython-input-9-1299851abec4>:195: FutureWarning: `torch.cuda.amp.autocast(args...)` is deprecated. Please use `torch.amp.autocast('cuda', args...)` instead.\n",
      "  with autocast():\n"
     ]
    },
    {
     "name": "stdout",
     "output_type": "stream",
     "text": [
      "Epoch 43/100 | Train Loss: 0.6220 | Val Loss: 0.6177 | Acc: 0.6065 | F1: 0.3696\n"
     ]
    },
    {
     "name": "stderr",
     "output_type": "stream",
     "text": [
      "<ipython-input-9-1299851abec4>:222: FutureWarning: `torch.cuda.amp.autocast(args...)` is deprecated. Please use `torch.amp.autocast('cuda', args...)` instead.\n",
      "  with autocast():\n",
      "<ipython-input-9-1299851abec4>:195: FutureWarning: `torch.cuda.amp.autocast(args...)` is deprecated. Please use `torch.amp.autocast('cuda', args...)` instead.\n",
      "  with autocast():\n"
     ]
    },
    {
     "name": "stdout",
     "output_type": "stream",
     "text": [
      "Epoch 44/100 | Train Loss: 0.6223 | Val Loss: 0.6160 | Acc: 0.6066 | F1: 0.3631\n"
     ]
    },
    {
     "name": "stderr",
     "output_type": "stream",
     "text": [
      "<ipython-input-9-1299851abec4>:222: FutureWarning: `torch.cuda.amp.autocast(args...)` is deprecated. Please use `torch.amp.autocast('cuda', args...)` instead.\n",
      "  with autocast():\n",
      "<ipython-input-9-1299851abec4>:195: FutureWarning: `torch.cuda.amp.autocast(args...)` is deprecated. Please use `torch.amp.autocast('cuda', args...)` instead.\n",
      "  with autocast():\n"
     ]
    },
    {
     "name": "stdout",
     "output_type": "stream",
     "text": [
      "Epoch 45/100 | Train Loss: 0.6228 | Val Loss: 0.6160 | Acc: 0.6068 | F1: 0.3653\n"
     ]
    },
    {
     "name": "stderr",
     "output_type": "stream",
     "text": [
      "<ipython-input-9-1299851abec4>:222: FutureWarning: `torch.cuda.amp.autocast(args...)` is deprecated. Please use `torch.amp.autocast('cuda', args...)` instead.\n",
      "  with autocast():\n"
     ]
    },
    {
     "name": "stdout",
     "output_type": "stream",
     "text": [
      "Epoch 46/100 | Train Loss: 0.6219 | Val Loss: 0.6169 | Acc: 0.6073 | F1: 0.3709\n"
     ]
    },
    {
     "name": "stderr",
     "output_type": "stream",
     "text": [
      "<ipython-input-9-1299851abec4>:195: FutureWarning: `torch.cuda.amp.autocast(args...)` is deprecated. Please use `torch.amp.autocast('cuda', args...)` instead.\n",
      "  with autocast():\n",
      "<ipython-input-9-1299851abec4>:222: FutureWarning: `torch.cuda.amp.autocast(args...)` is deprecated. Please use `torch.amp.autocast('cuda', args...)` instead.\n",
      "  with autocast():\n",
      "<ipython-input-9-1299851abec4>:195: FutureWarning: `torch.cuda.amp.autocast(args...)` is deprecated. Please use `torch.amp.autocast('cuda', args...)` instead.\n",
      "  with autocast():\n"
     ]
    },
    {
     "name": "stdout",
     "output_type": "stream",
     "text": [
      "Epoch 47/100 | Train Loss: 0.6210 | Val Loss: 0.6150 | Acc: 0.6092 | F1: 0.3727\n"
     ]
    },
    {
     "name": "stderr",
     "output_type": "stream",
     "text": [
      "<ipython-input-9-1299851abec4>:222: FutureWarning: `torch.cuda.amp.autocast(args...)` is deprecated. Please use `torch.amp.autocast('cuda', args...)` instead.\n",
      "  with autocast():\n",
      "<ipython-input-9-1299851abec4>:195: FutureWarning: `torch.cuda.amp.autocast(args...)` is deprecated. Please use `torch.amp.autocast('cuda', args...)` instead.\n",
      "  with autocast():\n"
     ]
    },
    {
     "name": "stdout",
     "output_type": "stream",
     "text": [
      "Epoch 48/100 | Train Loss: 0.6224 | Val Loss: 0.6154 | Acc: 0.6089 | F1: 0.3733\n"
     ]
    },
    {
     "name": "stderr",
     "output_type": "stream",
     "text": [
      "<ipython-input-9-1299851abec4>:222: FutureWarning: `torch.cuda.amp.autocast(args...)` is deprecated. Please use `torch.amp.autocast('cuda', args...)` instead.\n",
      "  with autocast():\n",
      "<ipython-input-9-1299851abec4>:195: FutureWarning: `torch.cuda.amp.autocast(args...)` is deprecated. Please use `torch.amp.autocast('cuda', args...)` instead.\n",
      "  with autocast():\n"
     ]
    },
    {
     "name": "stdout",
     "output_type": "stream",
     "text": [
      "Epoch 49/100 | Train Loss: 0.6202 | Val Loss: 0.6142 | Acc: 0.6091 | F1: 0.3716\n"
     ]
    },
    {
     "name": "stderr",
     "output_type": "stream",
     "text": [
      "<ipython-input-9-1299851abec4>:222: FutureWarning: `torch.cuda.amp.autocast(args...)` is deprecated. Please use `torch.amp.autocast('cuda', args...)` instead.\n",
      "  with autocast():\n",
      "<ipython-input-9-1299851abec4>:195: FutureWarning: `torch.cuda.amp.autocast(args...)` is deprecated. Please use `torch.amp.autocast('cuda', args...)` instead.\n",
      "  with autocast():\n"
     ]
    },
    {
     "name": "stdout",
     "output_type": "stream",
     "text": [
      "Epoch 50/100 | Train Loss: 0.6215 | Val Loss: 0.6141 | Acc: 0.6093 | F1: 0.3742\n"
     ]
    },
    {
     "name": "stderr",
     "output_type": "stream",
     "text": [
      "<ipython-input-9-1299851abec4>:222: FutureWarning: `torch.cuda.amp.autocast(args...)` is deprecated. Please use `torch.amp.autocast('cuda', args...)` instead.\n",
      "  with autocast():\n"
     ]
    },
    {
     "name": "stdout",
     "output_type": "stream",
     "text": [
      "Epoch 51/100 | Train Loss: 0.6206 | Val Loss: 0.6144 | Acc: 0.6089 | F1: 0.3727\n"
     ]
    },
    {
     "name": "stderr",
     "output_type": "stream",
     "text": [
      "<ipython-input-9-1299851abec4>:195: FutureWarning: `torch.cuda.amp.autocast(args...)` is deprecated. Please use `torch.amp.autocast('cuda', args...)` instead.\n",
      "  with autocast():\n",
      "<ipython-input-9-1299851abec4>:222: FutureWarning: `torch.cuda.amp.autocast(args...)` is deprecated. Please use `torch.amp.autocast('cuda', args...)` instead.\n",
      "  with autocast():\n",
      "<ipython-input-9-1299851abec4>:195: FutureWarning: `torch.cuda.amp.autocast(args...)` is deprecated. Please use `torch.amp.autocast('cuda', args...)` instead.\n",
      "  with autocast():\n"
     ]
    },
    {
     "name": "stdout",
     "output_type": "stream",
     "text": [
      "Epoch 52/100 | Train Loss: 0.6210 | Val Loss: 0.6144 | Acc: 0.6096 | F1: 0.3729\n"
     ]
    },
    {
     "name": "stderr",
     "output_type": "stream",
     "text": [
      "<ipython-input-9-1299851abec4>:222: FutureWarning: `torch.cuda.amp.autocast(args...)` is deprecated. Please use `torch.amp.autocast('cuda', args...)` instead.\n",
      "  with autocast():\n",
      "<ipython-input-9-1299851abec4>:195: FutureWarning: `torch.cuda.amp.autocast(args...)` is deprecated. Please use `torch.amp.autocast('cuda', args...)` instead.\n",
      "  with autocast():\n"
     ]
    },
    {
     "name": "stdout",
     "output_type": "stream",
     "text": [
      "Epoch 53/100 | Train Loss: 0.6189 | Val Loss: 0.6156 | Acc: 0.6091 | F1: 0.3747\n"
     ]
    },
    {
     "name": "stderr",
     "output_type": "stream",
     "text": [
      "<ipython-input-9-1299851abec4>:222: FutureWarning: `torch.cuda.amp.autocast(args...)` is deprecated. Please use `torch.amp.autocast('cuda', args...)` instead.\n",
      "  with autocast():\n"
     ]
    },
    {
     "name": "stdout",
     "output_type": "stream",
     "text": [
      "Epoch 54/100 | Train Loss: 0.6208 | Val Loss: 0.6152 | Acc: 0.6079 | F1: 0.3707\n"
     ]
    },
    {
     "name": "stderr",
     "output_type": "stream",
     "text": [
      "<ipython-input-9-1299851abec4>:195: FutureWarning: `torch.cuda.amp.autocast(args...)` is deprecated. Please use `torch.amp.autocast('cuda', args...)` instead.\n",
      "  with autocast():\n",
      "<ipython-input-9-1299851abec4>:222: FutureWarning: `torch.cuda.amp.autocast(args...)` is deprecated. Please use `torch.amp.autocast('cuda', args...)` instead.\n",
      "  with autocast():\n",
      "<ipython-input-9-1299851abec4>:195: FutureWarning: `torch.cuda.amp.autocast(args...)` is deprecated. Please use `torch.amp.autocast('cuda', args...)` instead.\n",
      "  with autocast():\n"
     ]
    },
    {
     "name": "stdout",
     "output_type": "stream",
     "text": [
      "Epoch 55/100 | Train Loss: 0.6211 | Val Loss: 0.6137 | Acc: 0.6096 | F1: 0.3750\n"
     ]
    },
    {
     "name": "stderr",
     "output_type": "stream",
     "text": [
      "<ipython-input-9-1299851abec4>:222: FutureWarning: `torch.cuda.amp.autocast(args...)` is deprecated. Please use `torch.amp.autocast('cuda', args...)` instead.\n",
      "  with autocast():\n"
     ]
    },
    {
     "name": "stdout",
     "output_type": "stream",
     "text": [
      "Epoch 56/100 | Train Loss: 0.6201 | Val Loss: 0.6141 | Acc: 0.6092 | F1: 0.3745\n"
     ]
    },
    {
     "name": "stderr",
     "output_type": "stream",
     "text": [
      "<ipython-input-9-1299851abec4>:195: FutureWarning: `torch.cuda.amp.autocast(args...)` is deprecated. Please use `torch.amp.autocast('cuda', args...)` instead.\n",
      "  with autocast():\n",
      "<ipython-input-9-1299851abec4>:222: FutureWarning: `torch.cuda.amp.autocast(args...)` is deprecated. Please use `torch.amp.autocast('cuda', args...)` instead.\n",
      "  with autocast():\n",
      "<ipython-input-9-1299851abec4>:195: FutureWarning: `torch.cuda.amp.autocast(args...)` is deprecated. Please use `torch.amp.autocast('cuda', args...)` instead.\n",
      "  with autocast():\n"
     ]
    },
    {
     "name": "stdout",
     "output_type": "stream",
     "text": [
      "Epoch 57/100 | Train Loss: 0.6210 | Val Loss: 0.6138 | Acc: 0.6100 | F1: 0.3752\n"
     ]
    },
    {
     "name": "stderr",
     "output_type": "stream",
     "text": [
      "<ipython-input-9-1299851abec4>:222: FutureWarning: `torch.cuda.amp.autocast(args...)` is deprecated. Please use `torch.amp.autocast('cuda', args...)` instead.\n",
      "  with autocast():\n",
      "<ipython-input-9-1299851abec4>:195: FutureWarning: `torch.cuda.amp.autocast(args...)` is deprecated. Please use `torch.amp.autocast('cuda', args...)` instead.\n",
      "  with autocast():\n"
     ]
    },
    {
     "name": "stdout",
     "output_type": "stream",
     "text": [
      "Epoch 58/100 | Train Loss: 0.6196 | Val Loss: 0.6141 | Acc: 0.6085 | F1: 0.3763\n"
     ]
    },
    {
     "name": "stderr",
     "output_type": "stream",
     "text": [
      "<ipython-input-9-1299851abec4>:222: FutureWarning: `torch.cuda.amp.autocast(args...)` is deprecated. Please use `torch.amp.autocast('cuda', args...)` instead.\n",
      "  with autocast():\n"
     ]
    },
    {
     "name": "stdout",
     "output_type": "stream",
     "text": [
      "Epoch 59/100 | Train Loss: 0.6200 | Val Loss: 0.6139 | Acc: 0.6082 | F1: 0.3711\n"
     ]
    },
    {
     "name": "stderr",
     "output_type": "stream",
     "text": [
      "<ipython-input-9-1299851abec4>:195: FutureWarning: `torch.cuda.amp.autocast(args...)` is deprecated. Please use `torch.amp.autocast('cuda', args...)` instead.\n",
      "  with autocast():\n",
      "<ipython-input-9-1299851abec4>:222: FutureWarning: `torch.cuda.amp.autocast(args...)` is deprecated. Please use `torch.amp.autocast('cuda', args...)` instead.\n",
      "  with autocast():\n",
      "<ipython-input-9-1299851abec4>:195: FutureWarning: `torch.cuda.amp.autocast(args...)` is deprecated. Please use `torch.amp.autocast('cuda', args...)` instead.\n",
      "  with autocast():\n"
     ]
    },
    {
     "name": "stdout",
     "output_type": "stream",
     "text": [
      "Epoch 60/100 | Train Loss: 0.6196 | Val Loss: 0.6139 | Acc: 0.6088 | F1: 0.3726\n"
     ]
    },
    {
     "name": "stderr",
     "output_type": "stream",
     "text": [
      "<ipython-input-9-1299851abec4>:222: FutureWarning: `torch.cuda.amp.autocast(args...)` is deprecated. Please use `torch.amp.autocast('cuda', args...)` instead.\n",
      "  with autocast():\n"
     ]
    },
    {
     "name": "stdout",
     "output_type": "stream",
     "text": [
      "Epoch 61/100 | Train Loss: 0.6198 | Val Loss: 0.6138 | Acc: 0.6097 | F1: 0.3766\n"
     ]
    },
    {
     "name": "stderr",
     "output_type": "stream",
     "text": [
      "<ipython-input-9-1299851abec4>:195: FutureWarning: `torch.cuda.amp.autocast(args...)` is deprecated. Please use `torch.amp.autocast('cuda', args...)` instead.\n",
      "  with autocast():\n",
      "<ipython-input-9-1299851abec4>:222: FutureWarning: `torch.cuda.amp.autocast(args...)` is deprecated. Please use `torch.amp.autocast('cuda', args...)` instead.\n",
      "  with autocast():\n",
      "<ipython-input-9-1299851abec4>:195: FutureWarning: `torch.cuda.amp.autocast(args...)` is deprecated. Please use `torch.amp.autocast('cuda', args...)` instead.\n",
      "  with autocast():\n"
     ]
    },
    {
     "name": "stdout",
     "output_type": "stream",
     "text": [
      "Epoch 62/100 | Train Loss: 0.6187 | Val Loss: 0.6131 | Acc: 0.6095 | F1: 0.3765\n"
     ]
    },
    {
     "name": "stderr",
     "output_type": "stream",
     "text": [
      "<ipython-input-9-1299851abec4>:222: FutureWarning: `torch.cuda.amp.autocast(args...)` is deprecated. Please use `torch.amp.autocast('cuda', args...)` instead.\n",
      "  with autocast():\n",
      "<ipython-input-9-1299851abec4>:195: FutureWarning: `torch.cuda.amp.autocast(args...)` is deprecated. Please use `torch.amp.autocast('cuda', args...)` instead.\n",
      "  with autocast():\n"
     ]
    },
    {
     "name": "stdout",
     "output_type": "stream",
     "text": [
      "Epoch 63/100 | Train Loss: 0.6182 | Val Loss: 0.6136 | Acc: 0.6094 | F1: 0.3791\n"
     ]
    },
    {
     "name": "stderr",
     "output_type": "stream",
     "text": [
      "<ipython-input-9-1299851abec4>:222: FutureWarning: `torch.cuda.amp.autocast(args...)` is deprecated. Please use `torch.amp.autocast('cuda', args...)` instead.\n",
      "  with autocast():\n"
     ]
    },
    {
     "name": "stdout",
     "output_type": "stream",
     "text": [
      "Epoch 64/100 | Train Loss: 0.6192 | Val Loss: 0.6130 | Acc: 0.6090 | F1: 0.3788\n"
     ]
    },
    {
     "name": "stderr",
     "output_type": "stream",
     "text": [
      "<ipython-input-9-1299851abec4>:195: FutureWarning: `torch.cuda.amp.autocast(args...)` is deprecated. Please use `torch.amp.autocast('cuda', args...)` instead.\n",
      "  with autocast():\n",
      "<ipython-input-9-1299851abec4>:222: FutureWarning: `torch.cuda.amp.autocast(args...)` is deprecated. Please use `torch.amp.autocast('cuda', args...)` instead.\n",
      "  with autocast():\n",
      "<ipython-input-9-1299851abec4>:195: FutureWarning: `torch.cuda.amp.autocast(args...)` is deprecated. Please use `torch.amp.autocast('cuda', args...)` instead.\n",
      "  with autocast():\n"
     ]
    },
    {
     "name": "stdout",
     "output_type": "stream",
     "text": [
      "Epoch 65/100 | Train Loss: 0.6181 | Val Loss: 0.6123 | Acc: 0.6105 | F1: 0.3752\n"
     ]
    },
    {
     "name": "stderr",
     "output_type": "stream",
     "text": [
      "<ipython-input-9-1299851abec4>:222: FutureWarning: `torch.cuda.amp.autocast(args...)` is deprecated. Please use `torch.amp.autocast('cuda', args...)` instead.\n",
      "  with autocast():\n"
     ]
    },
    {
     "name": "stdout",
     "output_type": "stream",
     "text": [
      "Epoch 66/100 | Train Loss: 0.6190 | Val Loss: 0.6129 | Acc: 0.6101 | F1: 0.3789\n"
     ]
    },
    {
     "name": "stderr",
     "output_type": "stream",
     "text": [
      "<ipython-input-9-1299851abec4>:195: FutureWarning: `torch.cuda.amp.autocast(args...)` is deprecated. Please use `torch.amp.autocast('cuda', args...)` instead.\n",
      "  with autocast():\n",
      "<ipython-input-9-1299851abec4>:222: FutureWarning: `torch.cuda.amp.autocast(args...)` is deprecated. Please use `torch.amp.autocast('cuda', args...)` instead.\n",
      "  with autocast():\n",
      "<ipython-input-9-1299851abec4>:195: FutureWarning: `torch.cuda.amp.autocast(args...)` is deprecated. Please use `torch.amp.autocast('cuda', args...)` instead.\n",
      "  with autocast():\n"
     ]
    },
    {
     "name": "stdout",
     "output_type": "stream",
     "text": [
      "Epoch 67/100 | Train Loss: 0.6182 | Val Loss: 0.6132 | Acc: 0.6105 | F1: 0.3813\n"
     ]
    },
    {
     "name": "stderr",
     "output_type": "stream",
     "text": [
      "<ipython-input-9-1299851abec4>:222: FutureWarning: `torch.cuda.amp.autocast(args...)` is deprecated. Please use `torch.amp.autocast('cuda', args...)` instead.\n",
      "  with autocast():\n",
      "<ipython-input-9-1299851abec4>:195: FutureWarning: `torch.cuda.amp.autocast(args...)` is deprecated. Please use `torch.amp.autocast('cuda', args...)` instead.\n",
      "  with autocast():\n"
     ]
    },
    {
     "name": "stdout",
     "output_type": "stream",
     "text": [
      "Epoch 68/100 | Train Loss: 0.6167 | Val Loss: 0.6132 | Acc: 0.6112 | F1: 0.3817\n"
     ]
    },
    {
     "name": "stderr",
     "output_type": "stream",
     "text": [
      "<ipython-input-9-1299851abec4>:222: FutureWarning: `torch.cuda.amp.autocast(args...)` is deprecated. Please use `torch.amp.autocast('cuda', args...)` instead.\n",
      "  with autocast():\n",
      "<ipython-input-9-1299851abec4>:195: FutureWarning: `torch.cuda.amp.autocast(args...)` is deprecated. Please use `torch.amp.autocast('cuda', args...)` instead.\n",
      "  with autocast():\n"
     ]
    },
    {
     "name": "stdout",
     "output_type": "stream",
     "text": [
      "Epoch 69/100 | Train Loss: 0.6179 | Val Loss: 0.6131 | Acc: 0.6105 | F1: 0.3779\n"
     ]
    },
    {
     "name": "stderr",
     "output_type": "stream",
     "text": [
      "<ipython-input-9-1299851abec4>:222: FutureWarning: `torch.cuda.amp.autocast(args...)` is deprecated. Please use `torch.amp.autocast('cuda', args...)` instead.\n",
      "  with autocast():\n",
      "<ipython-input-9-1299851abec4>:195: FutureWarning: `torch.cuda.amp.autocast(args...)` is deprecated. Please use `torch.amp.autocast('cuda', args...)` instead.\n",
      "  with autocast():\n"
     ]
    },
    {
     "name": "stdout",
     "output_type": "stream",
     "text": [
      "Epoch 70/100 | Train Loss: 0.6175 | Val Loss: 0.6123 | Acc: 0.6120 | F1: 0.3798\n"
     ]
    },
    {
     "name": "stderr",
     "output_type": "stream",
     "text": [
      "<ipython-input-9-1299851abec4>:222: FutureWarning: `torch.cuda.amp.autocast(args...)` is deprecated. Please use `torch.amp.autocast('cuda', args...)` instead.\n",
      "  with autocast():\n"
     ]
    },
    {
     "name": "stdout",
     "output_type": "stream",
     "text": [
      "Epoch 71/100 | Train Loss: 0.6183 | Val Loss: 0.6121 | Acc: 0.6108 | F1: 0.3832\n"
     ]
    },
    {
     "name": "stderr",
     "output_type": "stream",
     "text": [
      "<ipython-input-9-1299851abec4>:195: FutureWarning: `torch.cuda.amp.autocast(args...)` is deprecated. Please use `torch.amp.autocast('cuda', args...)` instead.\n",
      "  with autocast():\n",
      "<ipython-input-9-1299851abec4>:222: FutureWarning: `torch.cuda.amp.autocast(args...)` is deprecated. Please use `torch.amp.autocast('cuda', args...)` instead.\n",
      "  with autocast():\n",
      "<ipython-input-9-1299851abec4>:195: FutureWarning: `torch.cuda.amp.autocast(args...)` is deprecated. Please use `torch.amp.autocast('cuda', args...)` instead.\n",
      "  with autocast():\n"
     ]
    },
    {
     "name": "stdout",
     "output_type": "stream",
     "text": [
      "Epoch 72/100 | Train Loss: 0.6182 | Val Loss: 0.6126 | Acc: 0.6121 | F1: 0.3892\n"
     ]
    },
    {
     "name": "stderr",
     "output_type": "stream",
     "text": [
      "<ipython-input-9-1299851abec4>:222: FutureWarning: `torch.cuda.amp.autocast(args...)` is deprecated. Please use `torch.amp.autocast('cuda', args...)` instead.\n",
      "  with autocast():\n",
      "<ipython-input-9-1299851abec4>:195: FutureWarning: `torch.cuda.amp.autocast(args...)` is deprecated. Please use `torch.amp.autocast('cuda', args...)` instead.\n",
      "  with autocast():\n"
     ]
    },
    {
     "name": "stdout",
     "output_type": "stream",
     "text": [
      "Epoch 73/100 | Train Loss: 0.6177 | Val Loss: 0.6116 | Acc: 0.6114 | F1: 0.3826\n"
     ]
    },
    {
     "name": "stderr",
     "output_type": "stream",
     "text": [
      "<ipython-input-9-1299851abec4>:222: FutureWarning: `torch.cuda.amp.autocast(args...)` is deprecated. Please use `torch.amp.autocast('cuda', args...)` instead.\n",
      "  with autocast():\n"
     ]
    },
    {
     "name": "stdout",
     "output_type": "stream",
     "text": [
      "Epoch 74/100 | Train Loss: 0.6173 | Val Loss: 0.6124 | Acc: 0.6117 | F1: 0.3828\n"
     ]
    },
    {
     "name": "stderr",
     "output_type": "stream",
     "text": [
      "<ipython-input-9-1299851abec4>:195: FutureWarning: `torch.cuda.amp.autocast(args...)` is deprecated. Please use `torch.amp.autocast('cuda', args...)` instead.\n",
      "  with autocast():\n",
      "<ipython-input-9-1299851abec4>:222: FutureWarning: `torch.cuda.amp.autocast(args...)` is deprecated. Please use `torch.amp.autocast('cuda', args...)` instead.\n",
      "  with autocast():\n",
      "<ipython-input-9-1299851abec4>:195: FutureWarning: `torch.cuda.amp.autocast(args...)` is deprecated. Please use `torch.amp.autocast('cuda', args...)` instead.\n",
      "  with autocast():\n"
     ]
    },
    {
     "name": "stdout",
     "output_type": "stream",
     "text": [
      "Epoch 75/100 | Train Loss: 0.6180 | Val Loss: 0.6118 | Acc: 0.6120 | F1: 0.3808\n"
     ]
    },
    {
     "name": "stderr",
     "output_type": "stream",
     "text": [
      "<ipython-input-9-1299851abec4>:222: FutureWarning: `torch.cuda.amp.autocast(args...)` is deprecated. Please use `torch.amp.autocast('cuda', args...)` instead.\n",
      "  with autocast():\n"
     ]
    },
    {
     "name": "stdout",
     "output_type": "stream",
     "text": [
      "Epoch 76/100 | Train Loss: 0.6173 | Val Loss: 0.6130 | Acc: 0.6121 | F1: 0.3836\n"
     ]
    },
    {
     "name": "stderr",
     "output_type": "stream",
     "text": [
      "<ipython-input-9-1299851abec4>:195: FutureWarning: `torch.cuda.amp.autocast(args...)` is deprecated. Please use `torch.amp.autocast('cuda', args...)` instead.\n",
      "  with autocast():\n",
      "<ipython-input-9-1299851abec4>:222: FutureWarning: `torch.cuda.amp.autocast(args...)` is deprecated. Please use `torch.amp.autocast('cuda', args...)` instead.\n",
      "  with autocast():\n",
      "<ipython-input-9-1299851abec4>:195: FutureWarning: `torch.cuda.amp.autocast(args...)` is deprecated. Please use `torch.amp.autocast('cuda', args...)` instead.\n",
      "  with autocast():\n"
     ]
    },
    {
     "name": "stdout",
     "output_type": "stream",
     "text": [
      "Epoch 77/100 | Train Loss: 0.6165 | Val Loss: 0.6120 | Acc: 0.6124 | F1: 0.3796\n"
     ]
    },
    {
     "name": "stderr",
     "output_type": "stream",
     "text": [
      "<ipython-input-9-1299851abec4>:222: FutureWarning: `torch.cuda.amp.autocast(args...)` is deprecated. Please use `torch.amp.autocast('cuda', args...)` instead.\n",
      "  with autocast():\n",
      "<ipython-input-9-1299851abec4>:195: FutureWarning: `torch.cuda.amp.autocast(args...)` is deprecated. Please use `torch.amp.autocast('cuda', args...)` instead.\n",
      "  with autocast():\n"
     ]
    },
    {
     "name": "stdout",
     "output_type": "stream",
     "text": [
      "Epoch 78/100 | Train Loss: 0.6171 | Val Loss: 0.6117 | Acc: 0.6122 | F1: 0.3803\n"
     ]
    },
    {
     "name": "stderr",
     "output_type": "stream",
     "text": [
      "<ipython-input-9-1299851abec4>:222: FutureWarning: `torch.cuda.amp.autocast(args...)` is deprecated. Please use `torch.amp.autocast('cuda', args...)` instead.\n",
      "  with autocast():\n",
      "<ipython-input-9-1299851abec4>:195: FutureWarning: `torch.cuda.amp.autocast(args...)` is deprecated. Please use `torch.amp.autocast('cuda', args...)` instead.\n",
      "  with autocast():\n"
     ]
    },
    {
     "name": "stdout",
     "output_type": "stream",
     "text": [
      "Epoch 79/100 | Train Loss: 0.6168 | Val Loss: 0.6126 | Acc: 0.6128 | F1: 0.3831\n"
     ]
    },
    {
     "name": "stderr",
     "output_type": "stream",
     "text": [
      "<ipython-input-9-1299851abec4>:222: FutureWarning: `torch.cuda.amp.autocast(args...)` is deprecated. Please use `torch.amp.autocast('cuda', args...)` instead.\n",
      "  with autocast():\n",
      "<ipython-input-9-1299851abec4>:195: FutureWarning: `torch.cuda.amp.autocast(args...)` is deprecated. Please use `torch.amp.autocast('cuda', args...)` instead.\n",
      "  with autocast():\n"
     ]
    },
    {
     "name": "stdout",
     "output_type": "stream",
     "text": [
      "Epoch 80/100 | Train Loss: 0.6170 | Val Loss: 0.6125 | Acc: 0.6119 | F1: 0.3795\n"
     ]
    },
    {
     "name": "stderr",
     "output_type": "stream",
     "text": [
      "<ipython-input-9-1299851abec4>:222: FutureWarning: `torch.cuda.amp.autocast(args...)` is deprecated. Please use `torch.amp.autocast('cuda', args...)` instead.\n",
      "  with autocast():\n"
     ]
    },
    {
     "name": "stdout",
     "output_type": "stream",
     "text": [
      "Epoch 81/100 | Train Loss: 0.6178 | Val Loss: 0.6122 | Acc: 0.6109 | F1: 0.3767\n"
     ]
    },
    {
     "name": "stderr",
     "output_type": "stream",
     "text": [
      "<ipython-input-9-1299851abec4>:195: FutureWarning: `torch.cuda.amp.autocast(args...)` is deprecated. Please use `torch.amp.autocast('cuda', args...)` instead.\n",
      "  with autocast():\n",
      "<ipython-input-9-1299851abec4>:222: FutureWarning: `torch.cuda.amp.autocast(args...)` is deprecated. Please use `torch.amp.autocast('cuda', args...)` instead.\n",
      "  with autocast():\n",
      "<ipython-input-9-1299851abec4>:195: FutureWarning: `torch.cuda.amp.autocast(args...)` is deprecated. Please use `torch.amp.autocast('cuda', args...)` instead.\n",
      "  with autocast():\n"
     ]
    },
    {
     "name": "stdout",
     "output_type": "stream",
     "text": [
      "Epoch 82/100 | Train Loss: 0.6167 | Val Loss: 0.6134 | Acc: 0.6115 | F1: 0.3815\n"
     ]
    },
    {
     "name": "stderr",
     "output_type": "stream",
     "text": [
      "<ipython-input-9-1299851abec4>:222: FutureWarning: `torch.cuda.amp.autocast(args...)` is deprecated. Please use `torch.amp.autocast('cuda', args...)` instead.\n",
      "  with autocast():\n",
      "<ipython-input-9-1299851abec4>:195: FutureWarning: `torch.cuda.amp.autocast(args...)` is deprecated. Please use `torch.amp.autocast('cuda', args...)` instead.\n",
      "  with autocast():\n"
     ]
    },
    {
     "name": "stdout",
     "output_type": "stream",
     "text": [
      "Epoch 83/100 | Train Loss: 0.6166 | Val Loss: 0.6121 | Acc: 0.6116 | F1: 0.3769\n"
     ]
    },
    {
     "name": "stderr",
     "output_type": "stream",
     "text": [
      "<ipython-input-9-1299851abec4>:222: FutureWarning: `torch.cuda.amp.autocast(args...)` is deprecated. Please use `torch.amp.autocast('cuda', args...)` instead.\n",
      "  with autocast():\n"
     ]
    },
    {
     "name": "stdout",
     "output_type": "stream",
     "text": [
      "Epoch 84/100 | Train Loss: 0.6150 | Val Loss: 0.6124 | Acc: 0.6108 | F1: 0.3785\n"
     ]
    },
    {
     "name": "stderr",
     "output_type": "stream",
     "text": [
      "<ipython-input-9-1299851abec4>:195: FutureWarning: `torch.cuda.amp.autocast(args...)` is deprecated. Please use `torch.amp.autocast('cuda', args...)` instead.\n",
      "  with autocast():\n",
      "<ipython-input-9-1299851abec4>:222: FutureWarning: `torch.cuda.amp.autocast(args...)` is deprecated. Please use `torch.amp.autocast('cuda', args...)` instead.\n",
      "  with autocast():\n",
      "<ipython-input-9-1299851abec4>:195: FutureWarning: `torch.cuda.amp.autocast(args...)` is deprecated. Please use `torch.amp.autocast('cuda', args...)` instead.\n",
      "  with autocast():\n"
     ]
    },
    {
     "name": "stdout",
     "output_type": "stream",
     "text": [
      "Epoch 85/100 | Train Loss: 0.6163 | Val Loss: 0.6118 | Acc: 0.6114 | F1: 0.3802\n"
     ]
    },
    {
     "name": "stderr",
     "output_type": "stream",
     "text": [
      "<ipython-input-9-1299851abec4>:222: FutureWarning: `torch.cuda.amp.autocast(args...)` is deprecated. Please use `torch.amp.autocast('cuda', args...)` instead.\n",
      "  with autocast():\n",
      "<ipython-input-9-1299851abec4>:195: FutureWarning: `torch.cuda.amp.autocast(args...)` is deprecated. Please use `torch.amp.autocast('cuda', args...)` instead.\n",
      "  with autocast():\n"
     ]
    },
    {
     "name": "stdout",
     "output_type": "stream",
     "text": [
      "Epoch 86/100 | Train Loss: 0.6155 | Val Loss: 0.6113 | Acc: 0.6115 | F1: 0.3789\n"
     ]
    },
    {
     "name": "stderr",
     "output_type": "stream",
     "text": [
      "<ipython-input-9-1299851abec4>:222: FutureWarning: `torch.cuda.amp.autocast(args...)` is deprecated. Please use `torch.amp.autocast('cuda', args...)` instead.\n",
      "  with autocast():\n",
      "<ipython-input-9-1299851abec4>:195: FutureWarning: `torch.cuda.amp.autocast(args...)` is deprecated. Please use `torch.amp.autocast('cuda', args...)` instead.\n",
      "  with autocast():\n"
     ]
    },
    {
     "name": "stdout",
     "output_type": "stream",
     "text": [
      "Epoch 87/100 | Train Loss: 0.6152 | Val Loss: 0.6106 | Acc: 0.6123 | F1: 0.3804\n"
     ]
    },
    {
     "name": "stderr",
     "output_type": "stream",
     "text": [
      "<ipython-input-9-1299851abec4>:222: FutureWarning: `torch.cuda.amp.autocast(args...)` is deprecated. Please use `torch.amp.autocast('cuda', args...)` instead.\n",
      "  with autocast():\n",
      "<ipython-input-9-1299851abec4>:195: FutureWarning: `torch.cuda.amp.autocast(args...)` is deprecated. Please use `torch.amp.autocast('cuda', args...)` instead.\n",
      "  with autocast():\n"
     ]
    },
    {
     "name": "stdout",
     "output_type": "stream",
     "text": [
      "Epoch 88/100 | Train Loss: 0.6151 | Val Loss: 0.6106 | Acc: 0.6126 | F1: 0.3840\n"
     ]
    },
    {
     "name": "stderr",
     "output_type": "stream",
     "text": [
      "<ipython-input-9-1299851abec4>:222: FutureWarning: `torch.cuda.amp.autocast(args...)` is deprecated. Please use `torch.amp.autocast('cuda', args...)` instead.\n",
      "  with autocast():\n",
      "<ipython-input-9-1299851abec4>:195: FutureWarning: `torch.cuda.amp.autocast(args...)` is deprecated. Please use `torch.amp.autocast('cuda', args...)` instead.\n",
      "  with autocast():\n"
     ]
    },
    {
     "name": "stdout",
     "output_type": "stream",
     "text": [
      "Epoch 89/100 | Train Loss: 0.6153 | Val Loss: 0.6103 | Acc: 0.6127 | F1: 0.3838\n"
     ]
    },
    {
     "name": "stderr",
     "output_type": "stream",
     "text": [
      "<ipython-input-9-1299851abec4>:222: FutureWarning: `torch.cuda.amp.autocast(args...)` is deprecated. Please use `torch.amp.autocast('cuda', args...)` instead.\n",
      "  with autocast():\n",
      "<ipython-input-9-1299851abec4>:195: FutureWarning: `torch.cuda.amp.autocast(args...)` is deprecated. Please use `torch.amp.autocast('cuda', args...)` instead.\n",
      "  with autocast():\n"
     ]
    },
    {
     "name": "stdout",
     "output_type": "stream",
     "text": [
      "Epoch 90/100 | Train Loss: 0.6152 | Val Loss: 0.6102 | Acc: 0.6133 | F1: 0.3848\n"
     ]
    },
    {
     "name": "stderr",
     "output_type": "stream",
     "text": [
      "<ipython-input-9-1299851abec4>:222: FutureWarning: `torch.cuda.amp.autocast(args...)` is deprecated. Please use `torch.amp.autocast('cuda', args...)` instead.\n",
      "  with autocast():\n"
     ]
    },
    {
     "name": "stdout",
     "output_type": "stream",
     "text": [
      "Epoch 91/100 | Train Loss: 0.6158 | Val Loss: 0.6105 | Acc: 0.6136 | F1: 0.3856\n"
     ]
    },
    {
     "name": "stderr",
     "output_type": "stream",
     "text": [
      "<ipython-input-9-1299851abec4>:195: FutureWarning: `torch.cuda.amp.autocast(args...)` is deprecated. Please use `torch.amp.autocast('cuda', args...)` instead.\n",
      "  with autocast():\n",
      "<ipython-input-9-1299851abec4>:222: FutureWarning: `torch.cuda.amp.autocast(args...)` is deprecated. Please use `torch.amp.autocast('cuda', args...)` instead.\n",
      "  with autocast():\n",
      "<ipython-input-9-1299851abec4>:195: FutureWarning: `torch.cuda.amp.autocast(args...)` is deprecated. Please use `torch.amp.autocast('cuda', args...)` instead.\n",
      "  with autocast():\n"
     ]
    },
    {
     "name": "stdout",
     "output_type": "stream",
     "text": [
      "Epoch 92/100 | Train Loss: 0.6160 | Val Loss: 0.6109 | Acc: 0.6128 | F1: 0.3861\n"
     ]
    },
    {
     "name": "stderr",
     "output_type": "stream",
     "text": [
      "<ipython-input-9-1299851abec4>:222: FutureWarning: `torch.cuda.amp.autocast(args...)` is deprecated. Please use `torch.amp.autocast('cuda', args...)` instead.\n",
      "  with autocast():\n",
      "<ipython-input-9-1299851abec4>:195: FutureWarning: `torch.cuda.amp.autocast(args...)` is deprecated. Please use `torch.amp.autocast('cuda', args...)` instead.\n",
      "  with autocast():\n"
     ]
    },
    {
     "name": "stdout",
     "output_type": "stream",
     "text": [
      "Epoch 93/100 | Train Loss: 0.6168 | Val Loss: 0.6100 | Acc: 0.6137 | F1: 0.3860\n"
     ]
    },
    {
     "name": "stderr",
     "output_type": "stream",
     "text": [
      "<ipython-input-9-1299851abec4>:222: FutureWarning: `torch.cuda.amp.autocast(args...)` is deprecated. Please use `torch.amp.autocast('cuda', args...)` instead.\n",
      "  with autocast():\n",
      "<ipython-input-9-1299851abec4>:195: FutureWarning: `torch.cuda.amp.autocast(args...)` is deprecated. Please use `torch.amp.autocast('cuda', args...)` instead.\n",
      "  with autocast():\n"
     ]
    },
    {
     "name": "stdout",
     "output_type": "stream",
     "text": [
      "Epoch 94/100 | Train Loss: 0.6151 | Val Loss: 0.6100 | Acc: 0.6135 | F1: 0.3863\n"
     ]
    },
    {
     "name": "stderr",
     "output_type": "stream",
     "text": [
      "<ipython-input-9-1299851abec4>:222: FutureWarning: `torch.cuda.amp.autocast(args...)` is deprecated. Please use `torch.amp.autocast('cuda', args...)` instead.\n",
      "  with autocast():\n",
      "<ipython-input-9-1299851abec4>:195: FutureWarning: `torch.cuda.amp.autocast(args...)` is deprecated. Please use `torch.amp.autocast('cuda', args...)` instead.\n",
      "  with autocast():\n"
     ]
    },
    {
     "name": "stdout",
     "output_type": "stream",
     "text": [
      "Epoch 95/100 | Train Loss: 0.6154 | Val Loss: 0.6105 | Acc: 0.6135 | F1: 0.3861\n"
     ]
    },
    {
     "name": "stderr",
     "output_type": "stream",
     "text": [
      "<ipython-input-9-1299851abec4>:222: FutureWarning: `torch.cuda.amp.autocast(args...)` is deprecated. Please use `torch.amp.autocast('cuda', args...)` instead.\n",
      "  with autocast():\n"
     ]
    },
    {
     "name": "stdout",
     "output_type": "stream",
     "text": [
      "Epoch 96/100 | Train Loss: 0.6150 | Val Loss: 0.6109 | Acc: 0.6136 | F1: 0.3879\n"
     ]
    },
    {
     "name": "stderr",
     "output_type": "stream",
     "text": [
      "<ipython-input-9-1299851abec4>:195: FutureWarning: `torch.cuda.amp.autocast(args...)` is deprecated. Please use `torch.amp.autocast('cuda', args...)` instead.\n",
      "  with autocast():\n",
      "<ipython-input-9-1299851abec4>:222: FutureWarning: `torch.cuda.amp.autocast(args...)` is deprecated. Please use `torch.amp.autocast('cuda', args...)` instead.\n",
      "  with autocast():\n",
      "<ipython-input-9-1299851abec4>:195: FutureWarning: `torch.cuda.amp.autocast(args...)` is deprecated. Please use `torch.amp.autocast('cuda', args...)` instead.\n",
      "  with autocast():\n"
     ]
    },
    {
     "name": "stdout",
     "output_type": "stream",
     "text": [
      "Epoch 97/100 | Train Loss: 0.6153 | Val Loss: 0.6103 | Acc: 0.6131 | F1: 0.3859\n"
     ]
    },
    {
     "name": "stderr",
     "output_type": "stream",
     "text": [
      "<ipython-input-9-1299851abec4>:222: FutureWarning: `torch.cuda.amp.autocast(args...)` is deprecated. Please use `torch.amp.autocast('cuda', args...)` instead.\n",
      "  with autocast():\n"
     ]
    },
    {
     "name": "stdout",
     "output_type": "stream",
     "text": [
      "Epoch 98/100 | Train Loss: 0.6158 | Val Loss: 0.6098 | Acc: 0.6132 | F1: 0.3841\n"
     ]
    },
    {
     "name": "stderr",
     "output_type": "stream",
     "text": [
      "<ipython-input-9-1299851abec4>:195: FutureWarning: `torch.cuda.amp.autocast(args...)` is deprecated. Please use `torch.amp.autocast('cuda', args...)` instead.\n",
      "  with autocast():\n",
      "<ipython-input-9-1299851abec4>:222: FutureWarning: `torch.cuda.amp.autocast(args...)` is deprecated. Please use `torch.amp.autocast('cuda', args...)` instead.\n",
      "  with autocast():\n",
      "<ipython-input-9-1299851abec4>:195: FutureWarning: `torch.cuda.amp.autocast(args...)` is deprecated. Please use `torch.amp.autocast('cuda', args...)` instead.\n",
      "  with autocast():\n"
     ]
    },
    {
     "name": "stdout",
     "output_type": "stream",
     "text": [
      "Epoch 99/100 | Train Loss: 0.6139 | Val Loss: 0.6100 | Acc: 0.6135 | F1: 0.3855\n"
     ]
    },
    {
     "name": "stderr",
     "output_type": "stream",
     "text": [
      "<ipython-input-9-1299851abec4>:222: FutureWarning: `torch.cuda.amp.autocast(args...)` is deprecated. Please use `torch.amp.autocast('cuda', args...)` instead.\n",
      "  with autocast():\n",
      "<ipython-input-9-1299851abec4>:222: FutureWarning: `torch.cuda.amp.autocast(args...)` is deprecated. Please use `torch.amp.autocast('cuda', args...)` instead.\n",
      "  with autocast():\n"
     ]
    },
    {
     "name": "stdout",
     "output_type": "stream",
     "text": [
      "Epoch 100/100 | Train Loss: 0.6140 | Val Loss: 0.6099 | Acc: 0.6142 | F1: 0.3873\n",
      "\n",
      "===== Final Results (CUDA) =====\n",
      "Total Training Time: 67.33 seconds\n",
      "Evaluation Loss: 0.6099\n",
      "Final Accuracy: 0.6142\n",
      "Final F1 Score: 0.3873\n",
      "Confusion Matrix:\n",
      "[[4860   77]\n",
      " [3732 1204]]\n"
     ]
    },
    {
     "data": {
      "image/png": "[encoded data removed]",
      "text/plain": [
       "<Figure size 1200x500 with 2 Axes>"
      ]
     },
     "metadata": {},
     "output_type": "display_data"
    },
    {
     "data": {
      "image/png": "[encoded data removed]",
      "text/plain": [
       "<Figure size 600x500 with 1 Axes>"
      ]
     },
     "metadata": {},
     "output_type": "display_data"
    },
    {
     "name": "stdout",
     "output_type": "stream",
     "text": [
      "\n",
      "GPU run finished. Check the output above.\n",
      "Run the next cell for the CPU version.\n"
     ]
    }
   ],
   "source": [
    "# Colab Cell 1: Setup, Preprocessing, Model, and GPU Run\n",
    "\n",
    "import pandas as pd\n",
    "import numpy as np\n",
    "import torch\n",
    "import torch.nn as nn\n",
    "import torch.optim as optim\n",
    "from torch.utils.data import Dataset, DataLoader\n",
    "from torch.cuda.amp import autocast, GradScaler # For Mixed Precision Training\n",
    "from sklearn.model_selection import train_test_split\n",
    "from sklearn.impute import SimpleImputer\n",
    "from sklearn.preprocessing import OneHotEncoder, StandardScaler # Add StandardScaler\n",
    "from sklearn.metrics import accuracy_score, confusion_matrix, f1_score\n",
    "from imblearn.over_sampling import SMOTE\n",
    "import matplotlib.pyplot as plt\n",
    "import seaborn as sns\n",
    "import time\n",
    "import os\n",
    "import multiprocessing\n",
    "\n",
    "# Set start method for multiprocessing (important for CUDA and DataLoader)\n",
    "# This might need to be at the top of the *first* code cell in a notebook\n",
    "try:\n",
    "    multiprocessing.set_start_method('spawn', force=True)\n",
    "except RuntimeError:\n",
    "    pass # Already set\n",
    "\n",
    "# For reproducibility\n",
    "torch.manual_seed(42)\n",
    "np.random.seed(42)\n",
    "# Enable cuDNN auto-tuner (speeds up convolution but also general ops)\n",
    "torch.backends.cudnn.benchmark = True\n",
    "\n",
    "# --------------------\n",
    "# Data Preparation\n",
    "# --------------------\n",
    "def preprocess_data(data_path):\n",
    "    print(\"Starting data preprocessing...\")\n",
    "    data = pd.read_csv(data_path)\n",
    "\n",
    "    # Identify column types\n",
    "    numerical_cols = data.select_dtypes(include=np.number).columns.tolist()\n",
    "    categorical_cols = data.select_dtypes(include='object').columns.tolist()\n",
    "    # Assuming 'target' is the only non-feature numerical column\n",
    "    if 'target' in numerical_cols:\n",
    "        numerical_cols.remove('target')\n",
    "\n",
    "    print(f\"Numerical columns: {numerical_cols}\")\n",
    "    print(f\"Categorical columns: {categorical_cols}\")\n",
    "\n",
    "    # Impute missing values\n",
    "    # Numerical Imputation\n",
    "    if numerical_cols:\n",
    "        num_imputer = SimpleImputer(strategy='mean')\n",
    "        data[numerical_cols] = num_imputer.fit_transform(data[numerical_cols])\n",
    "        print(\"Numerical imputation complete.\")\n",
    "\n",
    "    # Categorical Imputation (using most frequent)\n",
    "    if categorical_cols:\n",
    "        cat_imputer = SimpleImputer(strategy='most_frequent')\n",
    "        data[categorical_cols] = cat_imputer.fit_transform(data[categorical_cols])\n",
    "        print(\"Categorical imputation complete.\")\n",
    "\n",
    "    # One-hot encoding for categorical columns\n",
    "    encoded_dfs = []\n",
    "    if categorical_cols:\n",
    "        cat_encoder = OneHotEncoder(sparse_output=False, handle_unknown='ignore', drop='first') # Use handle_unknown='ignore'\n",
    "        # Fit and transform on the whole dataset to ensure all categories are seen\n",
    "        cat_encoded = cat_encoder.fit_transform(data[categorical_cols])\n",
    "        encoded_dfs.append(pd.DataFrame(cat_encoded, columns=cat_encoder.get_feature_names_out(categorical_cols), index=data.index))\n",
    "        print(\"Categorical encoding complete.\")\n",
    "\n",
    "    # Drop original categorical columns\n",
    "    if categorical_cols:\n",
    "        data = data.drop(columns=categorical_cols)\n",
    "\n",
    "    # Combine original data with encoded features\n",
    "    if encoded_dfs:\n",
    "         data = pd.concat([data] + encoded_dfs, axis=1)\n",
    "\n",
    "    # Separate features and target BEFORE splitting\n",
    "    X = data.drop('target', axis=1)\n",
    "    y = data['target']\n",
    "\n",
    "    # Handle class imbalance AFTER splitting to avoid data leakage in SMOTE\n",
    "    print(\"Applying SMOTE...\")\n",
    "    smote = SMOTE(random_state=42)\n",
    "    X_resampled, y_resampled = smote.fit_resample(X, y)\n",
    "    print(f\"Original dataset shape {X.shape}, {y.shape}\")\n",
    "    print(f\"Resampled dataset shape {X_resampled.shape}, {y_resampled.shape}\")\n",
    "\n",
    "    # Split data into training and test sets AFTER SMOTE\n",
    "    X_train, X_test, y_train, y_test = train_test_split(\n",
    "        X_resampled, y_resampled, test_size=0.2, random_state=42, stratify=y_resampled # Stratify important after SMOTE\n",
    "    )\n",
    "    print(f\"Train shapes: {X_train.shape}, {y_train.shape}\")\n",
    "    print(f\"Test shapes: {X_test.shape}, {y_test.shape}\")\n",
    "\n",
    "    # Feature Scaling (Numerical columns only)\n",
    "    # Identify numerical columns in the *resampled* data before scaling\n",
    "    # Ensure scaling is applied AFTER splitting to prevent data leakage\n",
    "    numerical_cols_after_encoding = X_train.select_dtypes(include=np.number).columns.tolist()\n",
    "    initial_num_cols_check = ['feature_1', 'feature_2', 'feature_4', 'feature_6', 'feature_7']\n",
    "    cols_to_scale = [col for col in X_train.columns if col in initial_num_cols_check or X_train[col].dtype in [np.float32, np.float64, np.int64]]\n",
    "    cols_to_scale = list(set(cols_to_scale))\n",
    "\n",
    "    scaler = StandardScaler()\n",
    "    cols_to_scale_existing = [col for col in cols_to_scale if col in X_train.columns]\n",
    "\n",
    "    X_train[cols_to_scale_existing] = scaler.fit_transform(X_train[cols_to_scale_existing])\n",
    "    X_test[cols_to_scale_existing] = scaler.transform(X_test[cols_to_scale_existing])\n",
    "    print(\"Feature scaling complete.\")\n",
    "\n",
    "    return X_train, X_test, y_train, y_test\n",
    "\n",
    "# --------------------\n",
    "# Dataset Class\n",
    "# --------------------\n",
    "class CustomDataset(Dataset):\n",
    "    def __init__(self, X, y):\n",
    "        self.X = torch.tensor(X.values, dtype=torch.float32)\n",
    "        self.y = torch.tensor(y.values, dtype=torch.float32)\n",
    "\n",
    "    def __len__(self):\n",
    "        return len(self.X)\n",
    "\n",
    "    def __getitem__(self, idx):\n",
    "        return self.X[idx], self.y[idx]\n",
    "\n",
    "# --------------------\n",
    "# Neural Network Model (Wider and Deeper)\n",
    "# --------------------\n",
    "class OptimizedNN(nn.Module):\n",
    "    def __init__(self, input_dim):\n",
    "        super().__init__()\n",
    "        # Made the network wider and slightly deeper\n",
    "        self.net = nn.Sequential(\n",
    "            nn.Linear(input_dim, 1024), # Significantly Wider\n",
    "            nn.BatchNorm1d(1024),\n",
    "            nn.LeakyReLU(0.1),\n",
    "            nn.Dropout(0.3),\n",
    "\n",
    "            nn.Linear(1024, 512), # Wider\n",
    "            nn.BatchNorm1d(512),\n",
    "            nn.LeakyReLU(0.1),\n",
    "            nn.Dropout(0.3),\n",
    "\n",
    "            nn.Linear(512, 256), # Wider\n",
    "            nn.BatchNorm1d(256),\n",
    "            nn.LeakyReLU(0.1),\n",
    "            nn.Dropout(0.2),\n",
    "\n",
    "            nn.Linear(256, 128), # Added a layer\n",
    "            nn.BatchNorm1d(128),\n",
    "            nn.LeakyReLU(0.1),\n",
    "\n",
    "            nn.Linear(128, 64), # Added a layer\n",
    "            nn.BatchNorm1d(64),\n",
    "            nn.LeakyReLU(0.1),\n",
    "\n",
    "            nn.Linear(64, 32), # Added a layer\n",
    "            nn.BatchNorm1d(32),\n",
    "            nn.LeakyReLU(0.1),\n",
    "\n",
    "\n",
    "            nn.Linear(32, 1),\n",
    "        )\n",
    "\n",
    "        # Initialize weights\n",
    "        for m in self.modules():\n",
    "            if isinstance(m, nn.Linear):\n",
    "                nn.init.kaiming_normal_(m.weight, nonlinearity='leaky_relu')\n",
    "                if m.bias is not None:\n",
    "                    nn.init.constant_(m.bias, 0)\n",
    "\n",
    "    def forward(self, x):\n",
    "        # Output raw logits for BCEWithLogitsLoss\n",
    "        return self.net(x).squeeze() # Squeeze to remove dimension of 1\n",
    "\n",
    "# --------------------\n",
    "# Training and Evaluation\n",
    "# --------------------\n",
    "criterion = nn.BCEWithLogitsLoss()\n",
    "\n",
    "def train_epoch(model, loader, optimizer, scaler, device):\n",
    "    model.train()\n",
    "    total_loss = 0.0\n",
    "    for inputs, labels in loader:\n",
    "        inputs, labels = inputs.to(device, non_blocking=True), labels.to(device, non_blocking=True) # Use non_blocking=True for faster transfers\n",
    "\n",
    "        optimizer.zero_grad(set_to_none=True) # Use set_to_none=True for slight performance gain\n",
    "\n",
    "        # scaler only used if device is CUDA\n",
    "        if device.type == 'cuda':\n",
    "            with autocast():\n",
    "                outputs = model(inputs) # Model outputs are already squeezed\n",
    "                loss = criterion(outputs, labels)\n",
    "            scaler.scale(loss).backward()\n",
    "            scaler.step(optimizer)\n",
    "            scaler.update()\n",
    "        else: # CPU path, no autocast, no scaler\n",
    "             outputs = model(inputs) # Model outputs are already squeezed\n",
    "             loss = criterion(outputs, labels)\n",
    "             loss.backward()\n",
    "             optimizer.step()\n",
    "\n",
    "\n",
    "        total_loss += loss.item()\n",
    "\n",
    "    return total_loss / len(loader)\n",
    "\n",
    "def evaluate(model, loader, device):\n",
    "    model.eval()\n",
    "    all_preds, all_labels = [], []\n",
    "    total_loss = 0.0\n",
    "    with torch.no_grad():\n",
    "        for inputs, labels in loader:\n",
    "            inputs, labels = inputs.to(device, non_blocking=True), labels.to(device, non_blocking=True)\n",
    "\n",
    "            # autocast() without device_type - only applicable for CUDA\n",
    "            if device.type == 'cuda':\n",
    "                 with autocast():\n",
    "                      outputs = model(inputs)\n",
    "            else: # CPU path\n",
    "                 outputs = model(inputs)\n",
    "\n",
    "\n",
    "            probs = torch.sigmoid(outputs)\n",
    "            loss = criterion(outputs, labels)\n",
    "            preds = (probs > 0.5).long()\n",
    "\n",
    "            total_loss += loss.item()\n",
    "            all_preds.extend(preds.cpu().numpy())\n",
    "            all_labels.extend(labels.cpu().numpy())\n",
    "\n",
    "    return {\n",
    "        'loss': total_loss / len(loader),\n",
    "        'accuracy': accuracy_score(all_labels, all_preds),\n",
    "        'f1': f1_score(all_labels, all_preds),\n",
    "        'confusion_matrix': confusion_matrix(all_labels, all_preds),\n",
    "        'preds': all_preds,\n",
    "        'labels': all_labels\n",
    "    }\n",
    "\n",
    "# --------------------\n",
    "# Main Pipeline Execution Function\n",
    "# --------------------\n",
    "def run_pipeline(data_path, epochs=100, batch_size=8192, lr=1e-3, device_name='cuda', early_stopping_patience=20):\n",
    "\n",
    "    # Determine device\n",
    "    device = torch.device(device_name if torch.cuda.is_available() and device_name == 'cuda' else 'cpu')\n",
    "    print(f\"\\nRunning on {device.type.upper()}...\")\n",
    "    if device.type == 'cuda':\n",
    "        print(f\"GPU Name: {torch.cuda.get_device_name(0)}\")\n",
    "        # Check initial memory before data/model\n",
    "        # print(f\"Initial GPU memory usage - Allocated: {torch.cuda.memory_allocated(0)/1024**2:.2f} MB, Cached: {torch.cuda.memory_reserved(0)/1024**2:.2f} MB\")\n",
    "\n",
    "\n",
    "    # Data Preparation\n",
    "    X_train, X_test, y_train, y_test = preprocess_data(data_path)\n",
    "\n",
    "    # Create DataLoaders\n",
    "    # Keeping num_workers=0 as it resolved previous issues in this environment\n",
    "    num_workers = 0\n",
    "    print(f\"Using {num_workers} DataLoader workers.\")\n",
    "    print(f\"DataLoader batch size: {batch_size}\")\n",
    "\n",
    "\n",
    "    train_dataset = CustomDataset(X_train, y_train)\n",
    "    test_dataset = CustomDataset(X_test, y_test) # Using test set as validation for early stopping\n",
    "\n",
    "    train_loader = DataLoader(\n",
    "        train_dataset,\n",
    "        batch_size=batch_size,\n",
    "        shuffle=True,\n",
    "        num_workers=num_workers,\n",
    "        pin_memory=True if device.type == 'cuda' else False # Pin memory only useful for CUDA\n",
    "    )\n",
    "\n",
    "    test_loader = DataLoader(\n",
    "        test_dataset,\n",
    "        batch_size=batch_size,\n",
    "        shuffle=False,\n",
    "        num_workers=num_workers,\n",
    "        pin_memory=True if device.type == 'cuda' else False\n",
    "    )\n",
    "\n",
    "\n",
    "    # Model setup\n",
    "    input_dim = X_train.shape[1]\n",
    "    model = OptimizedNN(input_dim).to(device)\n",
    "    print(f\"Model Architecture:\\n{model}\")\n",
    "    # print(f\"Total model parameters: {sum(p.numel() for p in model.parameters())}\")\n",
    "\n",
    "\n",
    "    optimizer = optim.AdamW(model.parameters(), lr=lr, weight_decay=1e-5)\n",
    "    scheduler = torch.optim.lr_scheduler.ReduceLROnPlateau(optimizer, mode='min', factor=0.5, patience=early_stopping_patience // 2, verbose=True)\n",
    "    # Scaler is only needed/used with autocast (CUDA)\n",
    "    scaler = GradScaler() if device.type == 'cuda' else None\n",
    "\n",
    "\n",
    "    # Warm-up run for GPU\n",
    "    if device.type == 'cuda':\n",
    "        print(\"Warming up GPU...\")\n",
    "        try:\n",
    "             # Use the actual model with a dummy batch\n",
    "             dummy_input = torch.randn(batch_size, input_dim, device=device)\n",
    "             # Pass scaler explicitly to train_epoch, handle it being None in train_epoch for CPU\n",
    "             # autocast() only used with CUDA\n",
    "             with autocast():\n",
    "                  _ = model(dummy_input)\n",
    "             torch.cuda.synchronize() # Ensure warm-up is complete\n",
    "             print(\"GPU warm-up complete.\")\n",
    "             # print(f\"GPU memory after warm-up - Allocated: {torch.cuda.memory_allocated(0)/1024**2:.2f} MB, Cached: {torch.cuda.memory_reserved(0)/1024**2:.2f} MB\")\n",
    "\n",
    "        except RuntimeError as e:\n",
    "             print(f\"GPU warm-up or initial model/data transfer failed: {e}.\")\n",
    "             print(\"This might happen with very large batch sizes or model sizes.\")\n",
    "             if \"out of memory\" in str(e).lower():\n",
    "                  print(\"Consider reducing the batch size.\")\n",
    "             # Re-raise or handle based on whether training can continue\n",
    "             raise e # Stop if warm-up fails due to OOM\n",
    "\n",
    "\n",
    "    # Training loop\n",
    "    metrics_dict = {'train_loss': [], 'val_loss': [], 'accuracy': [], 'f1': []}\n",
    "    best_val_loss = float('inf')\n",
    "    patience_counter = 0\n",
    "    start_time = time.time()\n",
    "\n",
    "    print(\"Starting training...\")\n",
    "    for epoch in range(epochs):\n",
    "        # Pass scaler only if device is cuda\n",
    "        train_loss = train_epoch(model, train_loader, optimizer, scaler if device.type == 'cuda' else None, device)\n",
    "        eval_metrics = evaluate(model, test_loader, device)\n",
    "\n",
    "        metrics_dict['train_loss'].append(train_loss)\n",
    "        metrics_dict['val_loss'].append(eval_metrics['loss'])\n",
    "        metrics_dict['accuracy'].append(eval_metrics['accuracy'])\n",
    "        metrics_dict['f1'].append(eval_metrics['f1'])\n",
    "        metrics_dict['confusion_matrix'] = eval_metrics['confusion_matrix']\n",
    "\n",
    "        scheduler.step(eval_metrics['loss'])\n",
    "\n",
    "        print(f\"Epoch {epoch+1}/{epochs} | Train Loss: {train_loss:.4f} | Val Loss: {eval_metrics['loss']:.4f} | Acc: {eval_metrics['accuracy']:.4f} | F1: {eval_metrics['f1']:.4f}\")\n",
    "\n",
    "        # Early Stopping Check\n",
    "        if eval_metrics['loss'] < best_val_loss:\n",
    "            best_val_loss = eval_metrics['loss']\n",
    "            patience_counter = 0\n",
    "            # Optionally save the best model state\n",
    "            # torch.save(model.state_dict(), f'best_model_epoch_{epoch+1}_{device.type}.pth')\n",
    "        else:\n",
    "            patience_counter += 1\n",
    "            if patience_counter >= early_stopping_patience:\n",
    "                print(f\"Early stopping triggered after {epoch+1} epochs due to no improvement in validation loss.\")\n",
    "                break\n",
    "\n",
    "    # Final evaluation and timing\n",
    "    if device.type == 'cuda':\n",
    "        torch.cuda.synchronize()\n",
    "        # print(f\"Final GPU memory usage - Allocated: {torch.cuda.memory_allocated(0)/1024**2:.2f} MB, Cached: {torch.cuda.memory_reserved(0)/1024**2:.2f} MB\")\n",
    "\n",
    "\n",
    "    total_time = time.time() - start_time\n",
    "\n",
    "    # Evaluate one last time to get final metrics from the best or last epoch's model state if not saved\n",
    "    # Note: For best practice, you'd load the 'best_model.pth' here if you were saving it\n",
    "    final_metrics = evaluate(model, test_loader, device)\n",
    "\n",
    "\n",
    "    print(f\"\\n===== Final Results ({device.type.upper()}) =====\")\n",
    "    print(f\"Total Training Time: {total_time:.2f} seconds\")\n",
    "    print(f\"Evaluation Loss: {final_metrics['loss']:.4f}\")\n",
    "    print(f\"Final Accuracy: {final_metrics['accuracy']:.4f}\")\n",
    "    print(f\"Final F1 Score: {final_metrics['f1']:.4f}\")\n",
    "    print(\"Confusion Matrix:\")\n",
    "    print(final_metrics['confusion_matrix'])\n",
    "\n",
    "    plot_metrics(metrics_dict)\n",
    "\n",
    "    return final_metrics, total_time\n",
    "\n",
    "\n",
    "# -----------------------------------------------------------------------------\n",
    "# Execution Blocks (Run these in separate cells in Colab)\n",
    "# -----------------------------------------------------------------------------\n",
    "\n",
    "# Colab Cell 1 Execution: Run GPU version\n",
    "# Store results in global variables accessible by Cell 2\n",
    "gpu_metrics_wider = None\n",
    "gpu_time_wider = None\n",
    "\n",
    "if __name__ == \"__main__\":\n",
    "    if torch.cuda.is_available():\n",
    "         print(\"\\n--- Running GPU version (Wider/Deeper Net, Batch 8192) ---\")\n",
    "         try:\n",
    "            # Using the updated OptimizedNN class and batch_size=8192\n",
    "            gpu_metrics_wider, gpu_time_wider = run_pipeline(\n",
    "                '/content/pdc_dataset_with_target.csv',\n",
    "                device_name='cuda',\n",
    "                epochs=100,\n",
    "                batch_size=8192, # Increased batch size\n",
    "                early_stopping_patience=20\n",
    "            )\n",
    "            print(\"\\nGPU run finished. Check the output above.\")\n",
    "            print(\"Run the next cell for the CPU version.\")\n",
    "\n",
    "         except Exception as e:\n",
    "             print(f\"\\nGPU run failed: {e}\")\n",
    "\n",
    "    else:\n",
    "        print(\"\\nCUDA not available. Skipping GPU run in this cell.\")\n",
    "\n",
    "# After running this cell, the variables gpu_metrics_wider and gpu_time_wider will hold the results."
   ]
  },
  {
   "cell_type": "markdown",
   "metadata": {
    "id": "i3Hh_xPjZd6U"
   },
   "source": [
    "#  CPU Execution and GPU vs CPU Performance Comparison (Wider/Deeper Neural Network, Batch Size = 8192)"
   ]
  },
  {
   "cell_type": "code",
   "execution_count": null,
   "metadata": {
    "colab": {
     "base_uri": "https://localhost:8080/",
     "height": 1000
    },
    "id": "uYxlu3x2Y5HW",
    "outputId": "7a0587a5-7649-42d7-848e-535647593033"
   },
   "outputs": [
    {
     "name": "stdout",
     "output_type": "stream",
     "text": [
      "\n",
      "--- Running CPU version (Wider/Deeper Net, Batch 8192) ---\n",
      "\n",
      "Running on CPU...\n",
      "Starting data preprocessing...\n",
      "Numerical columns: ['feature_1', 'feature_2', 'feature_4', 'feature_6', 'feature_7']\n",
      "Categorical columns: ['feature_3', 'feature_5']\n",
      "Numerical imputation complete.\n",
      "Categorical imputation complete.\n",
      "Categorical encoding complete.\n",
      "Applying SMOTE...\n",
      "Original dataset shape (41000, 8), (41000,)\n",
      "Resampled dataset shape (49364, 8), (49364,)\n",
      "Train shapes: (39491, 8), (39491,)\n",
      "Test shapes: (9873, 8), (9873,)\n",
      "Feature scaling complete.\n",
      "Using 0 DataLoader workers.\n",
      "DataLoader batch size: 8192\n",
      "Model Architecture:\n",
      "OptimizedNN(\n",
      "  (net): Sequential(\n",
      "    (0): Linear(in_features=8, out_features=1024, bias=True)\n",
      "    (1): BatchNorm1d(1024, eps=1e-05, momentum=0.1, affine=True, track_running_stats=True)\n",
      "    (2): LeakyReLU(negative_slope=0.1)\n",
      "    (3): Dropout(p=0.3, inplace=False)\n",
      "    (4): Linear(in_features=1024, out_features=512, bias=True)\n",
      "    (5): BatchNorm1d(512, eps=1e-05, momentum=0.1, affine=True, track_running_stats=True)\n",
      "    (6): LeakyReLU(negative_slope=0.1)\n",
      "    (7): Dropout(p=0.3, inplace=False)\n",
      "    (8): Linear(in_features=512, out_features=256, bias=True)\n",
      "    (9): BatchNorm1d(256, eps=1e-05, momentum=0.1, affine=True, track_running_stats=True)\n",
      "    (10): LeakyReLU(negative_slope=0.1)\n",
      "    (11): Dropout(p=0.2, inplace=False)\n",
      "    (12): Linear(in_features=256, out_features=128, bias=True)\n",
      "    (13): BatchNorm1d(128, eps=1e-05, momentum=0.1, affine=True, track_running_stats=True)\n",
      "    (14): LeakyReLU(negative_slope=0.1)\n",
      "    (15): Linear(in_features=128, out_features=64, bias=True)\n",
      "    (16): BatchNorm1d(64, eps=1e-05, momentum=0.1, affine=True, track_running_stats=True)\n",
      "    (17): LeakyReLU(negative_slope=0.1)\n",
      "    (18): Linear(in_features=64, out_features=32, bias=True)\n",
      "    (19): BatchNorm1d(32, eps=1e-05, momentum=0.1, affine=True, track_running_stats=True)\n",
      "    (20): LeakyReLU(negative_slope=0.1)\n",
      "    (21): Linear(in_features=32, out_features=1, bias=True)\n",
      "  )\n",
      ")\n",
      "Starting training...\n"
     ]
    },
    {
     "name": "stderr",
     "output_type": "stream",
     "text": [
      "/usr/local/lib/python3.11/dist-packages/torch/optim/lr_scheduler.py:62: UserWarning: The verbose parameter is deprecated. Please use get_last_lr() to access the learning rate.\n",
      "  warnings.warn(\n"
     ]
    },
    {
     "name": "stdout",
     "output_type": "stream",
     "text": [
      "Epoch 1/100 | Train Loss: 0.7612 | Val Loss: 0.8037 | Acc: 0.4998 | F1: 0.0605\n",
      "Epoch 2/100 | Train Loss: 0.7036 | Val Loss: 0.7509 | Acc: 0.5108 | F1: 0.1667\n",
      "Epoch 3/100 | Train Loss: 0.6893 | Val Loss: 0.7074 | Acc: 0.5188 | F1: 0.1747\n",
      "Epoch 4/100 | Train Loss: 0.6801 | Val Loss: 0.6986 | Acc: 0.5305 | F1: 0.1830\n",
      "Epoch 5/100 | Train Loss: 0.6711 | Val Loss: 0.6916 | Acc: 0.5402 | F1: 0.1916\n",
      "Epoch 6/100 | Train Loss: 0.6624 | Val Loss: 0.6840 | Acc: 0.5490 | F1: 0.2089\n",
      "Epoch 7/100 | Train Loss: 0.6567 | Val Loss: 0.6767 | Acc: 0.5579 | F1: 0.2316\n",
      "Epoch 8/100 | Train Loss: 0.6528 | Val Loss: 0.6668 | Acc: 0.5622 | F1: 0.2348\n",
      "Epoch 9/100 | Train Loss: 0.6496 | Val Loss: 0.6614 | Acc: 0.5707 | F1: 0.2645\n",
      "Epoch 10/100 | Train Loss: 0.6434 | Val Loss: 0.6602 | Acc: 0.5748 | F1: 0.2812\n",
      "Epoch 11/100 | Train Loss: 0.6426 | Val Loss: 0.6510 | Acc: 0.5810 | F1: 0.2934\n",
      "Epoch 12/100 | Train Loss: 0.6414 | Val Loss: 0.6482 | Acc: 0.5857 | F1: 0.3054\n",
      "Epoch 13/100 | Train Loss: 0.6397 | Val Loss: 0.6415 | Acc: 0.5907 | F1: 0.3159\n",
      "Epoch 14/100 | Train Loss: 0.6377 | Val Loss: 0.6386 | Acc: 0.5937 | F1: 0.3274\n",
      "Epoch 15/100 | Train Loss: 0.6371 | Val Loss: 0.6347 | Acc: 0.5962 | F1: 0.3305\n",
      "Epoch 16/100 | Train Loss: 0.6369 | Val Loss: 0.6330 | Acc: 0.5970 | F1: 0.3356\n",
      "Epoch 17/100 | Train Loss: 0.6329 | Val Loss: 0.6339 | Acc: 0.5986 | F1: 0.3392\n",
      "Epoch 18/100 | Train Loss: 0.6331 | Val Loss: 0.6302 | Acc: 0.5999 | F1: 0.3395\n",
      "Epoch 19/100 | Train Loss: 0.6333 | Val Loss: 0.6301 | Acc: 0.5986 | F1: 0.3464\n",
      "Epoch 20/100 | Train Loss: 0.6334 | Val Loss: 0.6279 | Acc: 0.6018 | F1: 0.3544\n",
      "Epoch 21/100 | Train Loss: 0.6315 | Val Loss: 0.6254 | Acc: 0.6034 | F1: 0.3469\n",
      "Epoch 22/100 | Train Loss: 0.6310 | Val Loss: 0.6260 | Acc: 0.6018 | F1: 0.3567\n",
      "Epoch 23/100 | Train Loss: 0.6305 | Val Loss: 0.6247 | Acc: 0.6034 | F1: 0.3527\n",
      "Epoch 24/100 | Train Loss: 0.6308 | Val Loss: 0.6227 | Acc: 0.6049 | F1: 0.3564\n",
      "Epoch 25/100 | Train Loss: 0.6277 | Val Loss: 0.6235 | Acc: 0.6033 | F1: 0.3592\n",
      "Epoch 26/100 | Train Loss: 0.6274 | Val Loss: 0.6227 | Acc: 0.6047 | F1: 0.3565\n",
      "Epoch 27/100 | Train Loss: 0.6273 | Val Loss: 0.6227 | Acc: 0.6042 | F1: 0.3564\n",
      "Epoch 28/100 | Train Loss: 0.6289 | Val Loss: 0.6226 | Acc: 0.6040 | F1: 0.3611\n",
      "Epoch 29/100 | Train Loss: 0.6279 | Val Loss: 0.6211 | Acc: 0.6052 | F1: 0.3622\n",
      "Epoch 30/100 | Train Loss: 0.6267 | Val Loss: 0.6208 | Acc: 0.6069 | F1: 0.3649\n",
      "Epoch 31/100 | Train Loss: 0.6264 | Val Loss: 0.6216 | Acc: 0.6033 | F1: 0.3584\n",
      "Epoch 32/100 | Train Loss: 0.6268 | Val Loss: 0.6210 | Acc: 0.6037 | F1: 0.3576\n",
      "Epoch 33/100 | Train Loss: 0.6257 | Val Loss: 0.6206 | Acc: 0.6057 | F1: 0.3571\n",
      "Epoch 34/100 | Train Loss: 0.6266 | Val Loss: 0.6206 | Acc: 0.6051 | F1: 0.3636\n",
      "Epoch 35/100 | Train Loss: 0.6256 | Val Loss: 0.6196 | Acc: 0.6071 | F1: 0.3625\n",
      "Epoch 36/100 | Train Loss: 0.6259 | Val Loss: 0.6185 | Acc: 0.6081 | F1: 0.3623\n",
      "Epoch 37/100 | Train Loss: 0.6250 | Val Loss: 0.6200 | Acc: 0.6066 | F1: 0.3691\n",
      "Epoch 38/100 | Train Loss: 0.6256 | Val Loss: 0.6176 | Acc: 0.6063 | F1: 0.3652\n",
      "Epoch 39/100 | Train Loss: 0.6236 | Val Loss: 0.6189 | Acc: 0.6079 | F1: 0.3727\n",
      "Epoch 40/100 | Train Loss: 0.6238 | Val Loss: 0.6176 | Acc: 0.6072 | F1: 0.3688\n",
      "Epoch 41/100 | Train Loss: 0.6231 | Val Loss: 0.6174 | Acc: 0.6075 | F1: 0.3684\n",
      "Epoch 42/100 | Train Loss: 0.6245 | Val Loss: 0.6184 | Acc: 0.6075 | F1: 0.3708\n",
      "Epoch 43/100 | Train Loss: 0.6219 | Val Loss: 0.6173 | Acc: 0.6084 | F1: 0.3656\n",
      "Epoch 44/100 | Train Loss: 0.6241 | Val Loss: 0.6189 | Acc: 0.6064 | F1: 0.3671\n",
      "Epoch 45/100 | Train Loss: 0.6239 | Val Loss: 0.6174 | Acc: 0.6084 | F1: 0.3656\n",
      "Epoch 46/100 | Train Loss: 0.6226 | Val Loss: 0.6166 | Acc: 0.6090 | F1: 0.3676\n",
      "Epoch 47/100 | Train Loss: 0.6227 | Val Loss: 0.6160 | Acc: 0.6089 | F1: 0.3715\n",
      "Epoch 48/100 | Train Loss: 0.6228 | Val Loss: 0.6156 | Acc: 0.6106 | F1: 0.3679\n",
      "Epoch 49/100 | Train Loss: 0.6210 | Val Loss: 0.6173 | Acc: 0.6082 | F1: 0.3721\n",
      "Epoch 50/100 | Train Loss: 0.6219 | Val Loss: 0.6170 | Acc: 0.6083 | F1: 0.3732\n",
      "Epoch 51/100 | Train Loss: 0.6216 | Val Loss: 0.6161 | Acc: 0.6078 | F1: 0.3671\n",
      "Epoch 52/100 | Train Loss: 0.6229 | Val Loss: 0.6170 | Acc: 0.6085 | F1: 0.3729\n",
      "Epoch 53/100 | Train Loss: 0.6216 | Val Loss: 0.6151 | Acc: 0.6094 | F1: 0.3750\n",
      "Epoch 54/100 | Train Loss: 0.6209 | Val Loss: 0.6163 | Acc: 0.6090 | F1: 0.3766\n",
      "Epoch 55/100 | Train Loss: 0.6212 | Val Loss: 0.6153 | Acc: 0.6097 | F1: 0.3784\n",
      "Epoch 56/100 | Train Loss: 0.6201 | Val Loss: 0.6153 | Acc: 0.6085 | F1: 0.3716\n",
      "Epoch 57/100 | Train Loss: 0.6200 | Val Loss: 0.6162 | Acc: 0.6082 | F1: 0.3739\n",
      "Epoch 58/100 | Train Loss: 0.6201 | Val Loss: 0.6146 | Acc: 0.6104 | F1: 0.3766\n",
      "Epoch 59/100 | Train Loss: 0.6205 | Val Loss: 0.6142 | Acc: 0.6112 | F1: 0.3779\n",
      "Epoch 60/100 | Train Loss: 0.6217 | Val Loss: 0.6140 | Acc: 0.6110 | F1: 0.3806\n",
      "Epoch 61/100 | Train Loss: 0.6209 | Val Loss: 0.6147 | Acc: 0.6111 | F1: 0.3798\n",
      "Epoch 62/100 | Train Loss: 0.6203 | Val Loss: 0.6157 | Acc: 0.6096 | F1: 0.3748\n",
      "Epoch 63/100 | Train Loss: 0.6195 | Val Loss: 0.6163 | Acc: 0.6089 | F1: 0.3753\n",
      "Epoch 64/100 | Train Loss: 0.6188 | Val Loss: 0.6149 | Acc: 0.6081 | F1: 0.3728\n",
      "Epoch 65/100 | Train Loss: 0.6182 | Val Loss: 0.6161 | Acc: 0.6081 | F1: 0.3724\n",
      "Epoch 66/100 | Train Loss: 0.6193 | Val Loss: 0.6147 | Acc: 0.6094 | F1: 0.3763\n",
      "Epoch 67/100 | Train Loss: 0.6197 | Val Loss: 0.6157 | Acc: 0.6103 | F1: 0.3767\n",
      "Epoch 68/100 | Train Loss: 0.6193 | Val Loss: 0.6157 | Acc: 0.6098 | F1: 0.3781\n",
      "Epoch 69/100 | Train Loss: 0.6187 | Val Loss: 0.6137 | Acc: 0.6092 | F1: 0.3735\n",
      "Epoch 70/100 | Train Loss: 0.6189 | Val Loss: 0.6138 | Acc: 0.6093 | F1: 0.3752\n",
      "Epoch 71/100 | Train Loss: 0.6185 | Val Loss: 0.6143 | Acc: 0.6089 | F1: 0.3739\n",
      "Epoch 72/100 | Train Loss: 0.6190 | Val Loss: 0.6139 | Acc: 0.6093 | F1: 0.3758\n",
      "Epoch 73/100 | Train Loss: 0.6175 | Val Loss: 0.6134 | Acc: 0.6103 | F1: 0.3727\n",
      "Epoch 74/100 | Train Loss: 0.6172 | Val Loss: 0.6134 | Acc: 0.6103 | F1: 0.3759\n",
      "Epoch 75/100 | Train Loss: 0.6177 | Val Loss: 0.6129 | Acc: 0.6099 | F1: 0.3806\n",
      "Epoch 76/100 | Train Loss: 0.6175 | Val Loss: 0.6130 | Acc: 0.6113 | F1: 0.3814\n",
      "Epoch 77/100 | Train Loss: 0.6176 | Val Loss: 0.6132 | Acc: 0.6109 | F1: 0.3787\n",
      "Epoch 78/100 | Train Loss: 0.6172 | Val Loss: 0.6133 | Acc: 0.6113 | F1: 0.3790\n",
      "Epoch 79/100 | Train Loss: 0.6175 | Val Loss: 0.6150 | Acc: 0.6112 | F1: 0.3809\n",
      "Epoch 80/100 | Train Loss: 0.6174 | Val Loss: 0.6123 | Acc: 0.6127 | F1: 0.3798\n",
      "Epoch 81/100 | Train Loss: 0.6177 | Val Loss: 0.6138 | Acc: 0.6111 | F1: 0.3834\n",
      "Epoch 82/100 | Train Loss: 0.6165 | Val Loss: 0.6130 | Acc: 0.6100 | F1: 0.3766\n",
      "Epoch 83/100 | Train Loss: 0.6178 | Val Loss: 0.6141 | Acc: 0.6104 | F1: 0.3776\n",
      "Epoch 84/100 | Train Loss: 0.6175 | Val Loss: 0.6135 | Acc: 0.6110 | F1: 0.3800\n",
      "Epoch 85/100 | Train Loss: 0.6176 | Val Loss: 0.6126 | Acc: 0.6101 | F1: 0.3783\n",
      "Epoch 86/100 | Train Loss: 0.6168 | Val Loss: 0.6138 | Acc: 0.6115 | F1: 0.3833\n",
      "Epoch 87/100 | Train Loss: 0.6161 | Val Loss: 0.6133 | Acc: 0.6094 | F1: 0.3771\n",
      "Epoch 88/100 | Train Loss: 0.6154 | Val Loss: 0.6125 | Acc: 0.6108 | F1: 0.3811\n",
      "Epoch 89/100 | Train Loss: 0.6162 | Val Loss: 0.6121 | Acc: 0.6115 | F1: 0.3853\n",
      "Epoch 90/100 | Train Loss: 0.6159 | Val Loss: 0.6121 | Acc: 0.6113 | F1: 0.3853\n",
      "Epoch 91/100 | Train Loss: 0.6166 | Val Loss: 0.6124 | Acc: 0.6106 | F1: 0.3851\n",
      "Epoch 92/100 | Train Loss: 0.6157 | Val Loss: 0.6133 | Acc: 0.6109 | F1: 0.3829\n",
      "Epoch 93/100 | Train Loss: 0.6157 | Val Loss: 0.6127 | Acc: 0.6114 | F1: 0.3840\n",
      "Epoch 94/100 | Train Loss: 0.6144 | Val Loss: 0.6125 | Acc: 0.6118 | F1: 0.3843\n",
      "Epoch 95/100 | Train Loss: 0.6156 | Val Loss: 0.6126 | Acc: 0.6112 | F1: 0.3839\n",
      "Epoch 96/100 | Train Loss: 0.6162 | Val Loss: 0.6126 | Acc: 0.6114 | F1: 0.3877\n",
      "Epoch 97/100 | Train Loss: 0.6147 | Val Loss: 0.6108 | Acc: 0.6124 | F1: 0.3828\n",
      "Epoch 98/100 | Train Loss: 0.6157 | Val Loss: 0.6133 | Acc: 0.6110 | F1: 0.3861\n",
      "Epoch 99/100 | Train Loss: 0.6147 | Val Loss: 0.6117 | Acc: 0.6122 | F1: 0.3821\n",
      "Epoch 100/100 | Train Loss: 0.6141 | Val Loss: 0.6127 | Acc: 0.6123 | F1: 0.3836\n",
      "\n",
      "===== Final Results (CPU) =====\n",
      "Total Training Time: 329.72 seconds\n",
      "Evaluation Loss: 0.6127\n",
      "Final Accuracy: 0.6123\n",
      "Final F1 Score: 0.3836\n",
      "Confusion Matrix:\n",
      "[[4854   83]\n",
      " [3745 1191]]\n"
     ]
    },
    {
     "data": {
      "image/png": "[encoded data removed]",
      "text/plain": [
       "<Figure size 1200x500 with 2 Axes>"
      ]
     },
     "metadata": {},
     "output_type": "display_data"
    },
    {
     "data": {
      "image/png": "[encoded data removed]",
      "text/plain": [
       "<Figure size 600x500 with 1 Axes>"
      ]
     },
     "metadata": {},
     "output_type": "display_data"
    },
    {
     "name": "stdout",
     "output_type": "stream",
     "text": [
      "\n",
      "CPU run finished. Check the output above.\n",
      "\n",
      "===== Comparing CPU vs GPU Results (Wider/Deeper Net, Batch 8192) =====\n",
      "GPU Training Time: 67.33 seconds\n",
      "CPU Training Time: 329.72 seconds\n",
      "Time Reduction (CPU vs GPU): 79.58%\n",
      "Target 70% time reduction achieved!\n",
      "\n",
      "--- Performance Metrics ---\n",
      "GPU Final Accuracy: 0.6142\n",
      "GPU Final F1 Score: 0.3873\n",
      "CPU Final Accuracy: 0.6123\n",
      "CPU Final F1 Score: 0.3836\n"
     ]
    }
   ],
   "source": [
    "# Colab Cell 2: CPU Run and Comparison\n",
    "\n",
    "# Assuming you have already run Cell 1 and the functions/classes are defined\n",
    "# Assuming Cell 1 stored its results in gpu_metrics_wider and gpu_time_wider\n",
    "\n",
    "# Store CPU results\n",
    "cpu_metrics_wider = None\n",
    "cpu_time_wider = None\n",
    "\n",
    "# Ensure you use the SAME model architecture (OptimizedNN) and batch_size (8192)\n",
    "# The run_pipeline function uses the global OptimizedNN definition\n",
    "# The batch_size is set in the run_pipeline call\n",
    "\n",
    "if __name__ == \"__main__\":\n",
    "    print(\"\\n--- Running CPU version (Wider/Deeper Net, Batch 8192) ---\")\n",
    "    try:\n",
    "        cpu_metrics_wider, cpu_time_wider = run_pipeline(\n",
    "            '/content/pdc_dataset_with_target.csv',\n",
    "            device_name='cpu',        # Explicitly use CPU\n",
    "            epochs=100,             # Match GPU epochs\n",
    "            batch_size=8192,          # MATCH GPU BATCH SIZE\n",
    "            early_stopping_patience=20 # Match GPU patience\n",
    "        )\n",
    "        print(\"\\nCPU run finished. Check the output above.\")\n",
    "\n",
    "    except Exception as e:\n",
    "        print(f\"\\nCPU run failed: {e}\")\n",
    "\n",
    "\n",
    "# --- Comparison (Run this part AFTER both Cell 1 and Cell 2 have completed successfully) ---\n",
    "print(\"\\n===== Comparing CPU vs GPU Results (Wider/Deeper Net, Batch 8192) =====\")\n",
    "\n",
    "# Access the variables stored from Cell 1 and Cell 2\n",
    "# Make sure gpu_time_wider and cpu_time_wider were successfully assigned (runs completed)\n",
    "if 'gpu_time_wider' in globals() and gpu_time_wider is not None and \\\n",
    "   'cpu_time_wider' in globals() and cpu_time_wider is not None:\n",
    "\n",
    "    print(f\"GPU Training Time: {gpu_time_wider:.2f} seconds\")\n",
    "    print(f\"CPU Training Time: {cpu_time_wider:.2f} seconds\")\n",
    "\n",
    "    if cpu_time_wider > 0:\n",
    "        time_reduction = ((cpu_time_wider - gpu_time_wider) / cpu_time_wider) * 100\n",
    "        print(f\"Time Reduction (CPU vs GPU): {time_reduction:.2f}%\")\n",
    "\n",
    "        if time_reduction >= 70:\n",
    "            print(\"Target 70% time reduction achieved!\")\n",
    "        else:\n",
    "            print(\"Target 70% time reduction NOT achieved with this setup.\")\n",
    "            print(\"Further increases in model size, batch size (if possible), or dataset size would generally lead to higher GPU speedups.\")\n",
    "            print(\"Also, check if data loading is a significant bottleneck even with num_workers=0, though less likely with this dataset size.\")\n",
    "\n",
    "    else:\n",
    "        print(\"CPU time is 0 or invalid, cannot calculate reduction.\")\n",
    "\n",
    "    print(\"\\n--- Performance Metrics ---\")\n",
    "    if 'gpu_metrics_wider' in globals() and gpu_metrics_wider is not None:\n",
    "        print(f\"GPU Final Accuracy: {gpu_metrics_wider['accuracy']:.4f}\")\n",
    "        print(f\"GPU Final F1 Score: {gpu_metrics_wider['f1']:.4f}\")\n",
    "    if 'cpu_metrics_wider' in globals() and cpu_metrics_wider is not None:\n",
    "         print(f\"CPU Final Accuracy: {cpu_metrics_wider['accuracy']:.4f}\")\n",
    "         print(f\"CPU Final F1 Score: {cpu_metrics_wider['f1']:.4f}\")\n",
    "\n",
    "else:\n",
    "    print(\"Error: Both GPU and CPU run results were not found. Please ensure both cells ran completely.\")"
   ]
  },
  {
   "cell_type": "code",
   "execution_count": null,
   "metadata": {},
   "outputs": [],
   "source": []
  }
 ],
 "metadata": {
  "accelerator": "GPU",
  "colab": {
   "gpuType": "T4",
   "provenance": []
  },
  "kernelspec": {
   "display_name": "Python 3 (ipykernel)",
   "language": "python",
   "name": "python3"
  },
  "language_info": {
   "codemirror_mode": {
    "name": "ipython",
    "version": 3
   },
   "file_extension": ".py",
   "mimetype": "text/x-python",
   "name": "python",
   "nbconvert_exporter": "python",
   "pygments_lexer": "ipython3",
   "version": "3.11.7"
  }
 },
 "nbformat": 4,
 "nbformat_minor": 4
}
